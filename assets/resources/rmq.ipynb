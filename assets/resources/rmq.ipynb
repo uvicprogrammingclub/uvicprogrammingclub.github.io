{
 "cells": [
  {
   "cell_type": "markdown",
   "metadata": {},
   "source": [
    "# Segment trees\n",
    "\n",
    "## Detour: Range minimum query\n",
    "\n",
    "Problem: given an array $A$, quickly find the minimum element between two given indices $i$ and $j$.\n",
    "\n",
    "> Note: all intervals here are half-open (i.e. $i$ to $j$ means $A[i, j)$ or `A[i:j]`).\n",
    "\n",
    "\n",
    "### 1. Easy solution"
   ]
  },
  {
   "cell_type": "code",
   "execution_count": 1,
   "metadata": {},
   "outputs": [],
   "source": [
    "A = [2, 4, 3, 1, 6, 7, 8, 9, 1, 7]\n",
    "\n",
    "def argmin(A, i, j):\n",
    "  if i >= j: return -1\n",
    "  return min(range(i, min(len(A), j)), key=lambda x: A[x])"
   ]
  },
  {
   "cell_type": "code",
   "execution_count": 18,
   "metadata": {},
   "outputs": [
    {
     "data": {
      "text/plain": [
       "(3, 8)"
      ]
     },
     "execution_count": 18,
     "metadata": {},
     "output_type": "execute_result"
    }
   ],
   "source": [
    "# <O(1), O(n)>\n",
    "\n",
    "def preprocess(A):\n",
    "  return A\n",
    "def query(A, i, j):\n",
    "  return argmin(A, i, j)\n",
    "\n",
    "query(A, 2, 7), query(A, 4, 9)"
   ]
  },
  {
   "cell_type": "markdown",
   "metadata": {},
   "source": [
    "### 2. Dynamic programming solution"
   ]
  },
  {
   "cell_type": "code",
   "execution_count": 19,
   "metadata": {},
   "outputs": [
    {
     "data": {
      "text/plain": [
       "(3, 8)"
      ]
     },
     "execution_count": 19,
     "metadata": {},
     "output_type": "execute_result"
    }
   ],
   "source": [
    "# <O(n^3), O(1)>\n",
    "# Pre-compute\n",
    "\n",
    "def preprocess(A):\n",
    "  # Store RMQ(A, i, j) in a table\n",
    "  T = {}\n",
    "  for i in range(len(A)):\n",
    "    for j in range(i + 1, len(A)):\n",
    "      T[i, j] = argmin(A, i, j)\n",
    "  return T\n",
    "\n",
    "def query(T, i, j):\n",
    "    return T[i,j]\n",
    "\n",
    "T = preprocess(A)\n",
    "query(T, 2, 7), query(T, 4, 9)"
   ]
  },
  {
   "cell_type": "code",
   "execution_count": 8,
   "metadata": {},
   "outputs": [
    {
     "data": {
      "text/plain": [
       "(3, 8)"
      ]
     },
     "execution_count": 8,
     "metadata": {},
     "output_type": "execute_result"
    }
   ],
   "source": [
    "# <O(n^2), O(1)>\n",
    "# Dynamic programming\n",
    "\n",
    "def preprocess(A):\n",
    "  # Store RMQ(A, i, j) in a table\n",
    "  T = {(i, i): i for i in range(len(A))}\n",
    "  for i in range(len(A)):\n",
    "    for j in range(i + 1, len(A)):\n",
    "      T[i, j] = T[i, j - 1] if A[T[i, j - 1]] < A[j] else j\n",
    "  return T\n",
    "\n",
    "def query(T, i, j):\n",
    "    return T[i, j]\n",
    "\n",
    "T = preprocess(A)\n",
    "query(T, 2, 7), query(T, 4, 9)"
   ]
  },
  {
   "cell_type": "markdown",
   "metadata": {},
   "source": [
    "### 3. Smarter dynamic programming solutions via table ranges"
   ]
  },
  {
   "cell_type": "code",
   "execution_count": 29,
   "metadata": {},
   "outputs": [
    {
     "data": {
      "text/plain": [
       "(3, 8)"
      ]
     },
     "execution_count": 29,
     "metadata": {},
     "output_type": "execute_result"
    }
   ],
   "source": [
    "# <O(n), O(sqrt(n))>\n",
    "# Split table\n",
    "\n",
    "import math\n",
    "\n",
    "sz = int(math.sqrt(len(A)))\n",
    "def preprocess(A):\n",
    "  return [argmin(A, i, i + sz) for i in range(0, len(A), sz)]\n",
    "\n",
    "def query(A, M, i, j):\n",
    "  p1, p2 = i // sz, j // sz\n",
    "  il = argmin(A, i, p1 * sz + sz)\n",
    "  im = min(M[p1 + 1:p2])\n",
    "  ir = argmin(A, p2 * sz, j)\n",
    "  if il >= 0 and A[il] <= min(A[im], A[ir]): \n",
    "    return il\n",
    "  if im >= 0 and A[im] <= min(A[il], A[ir]): \n",
    "    return im\n",
    "  return ir\n",
    "\n",
    "M = preprocess(A)\n",
    "query(A, M, 2, 7), query(A, M, 4, 9)"
   ]
  },
  {
   "cell_type": "code",
   "execution_count": 34,
   "metadata": {},
   "outputs": [
    {
     "data": {
      "text/plain": [
       "(3, 8)"
      ]
     },
     "execution_count": 34,
     "metadata": {},
     "output_type": "execute_result"
    }
   ],
   "source": [
    "# <O(n log(n)), O(1)>\n",
    "# Sparse tables\n",
    "\n",
    "import math\n",
    "\n",
    "def preprocess(A):\n",
    "  T = {(i, 0): i for i in range(len(A))}\n",
    "  j = 1\n",
    "  while 2 ** j < len(A):\n",
    "    i = 0\n",
    "    while i + 2 ** j - 1 < len(A):\n",
    "      if A[T[i, j - 1]] < A[T[i + 2 ** (j - 1), j - 1]]:\n",
    "        T[i, j] = T[i, j - 1] \n",
    "      else:\n",
    "        T[i, j] = T[i + 2 ** (j - 1), j - 1]\n",
    "      i += 1\n",
    "    j += 1\n",
    "  return T\n",
    "\n",
    "def query(M, i, j):\n",
    "  k = int(math.log(j - i + 1))\n",
    "  if A[T[i, k]] < A[T[j - 2 ** k + 1, k]]:\n",
    "    return M[i, k]\n",
    "  else:\n",
    "    return M[j - 2 ** k + 1, k]\n",
    "\n",
    "T = preprocess(A)\n",
    "query(T, 2, 7), query(T, 4, 9)"
   ]
  },
  {
   "cell_type": "markdown",
   "metadata": {},
   "source": [
    "## Segment trees\n",
    "\n",
    "If we push the table ranges idea further, we reach segment trees!\n",
    "\n",
    "### 4. Segment trees"
   ]
  },
  {
   "cell_type": "code",
   "execution_count": 15,
   "metadata": {},
   "outputs": [
    {
     "data": {
      "text/plain": [
       "(3, 8)"
      ]
     },
     "execution_count": 15,
     "metadata": {},
     "output_type": "execute_result"
    }
   ],
   "source": [
    "# <O(n), O(log(n))>\n",
    "# Segment trees for RMQ\n",
    "\n",
    "def preprocess(A, tree, node=0, st=0, ed=len(A)):\n",
    "  if st + 1 >= ed:\n",
    "    tree[node] = st\n",
    "  else:\n",
    "    l = preprocess(A, tree, 2 * node + 1, st, (st + ed) // 2)\n",
    "    r = preprocess(A, tree, 2 * node + 2, (st + ed) // 2, ed)\n",
    "    tree[node] = l if A[l] <= A[r] else r\n",
    "  return tree[node]\n",
    "\n",
    "def query(A, tree, i, j, node=0, st=0, ed=len(A)):\n",
    "  if i >= ed or j <= st:\n",
    "    return -1\n",
    "  if st >= i and ed <= j:\n",
    "    return tree[node]\n",
    "  l = query(A, tree, i, j, 2 * node + 1, st, (st + ed) // 2)\n",
    "  r = query(A, tree, i, j, 2 * node + 2, (st + ed) // 2, ed)\n",
    "\n",
    "  if l == -1: return r\n",
    "  if r == -1: return l\n",
    "  return l if A[l] <= A[r] else r\n",
    "\n",
    "tree = {}\n",
    "preprocess(A, tree)\n",
    "query(A, tree, 2, 7), query(A, tree, 4, 9)"
   ]
  },
  {
   "cell_type": "markdown",
   "metadata": {},
   "source": [
    "Segment trees can be used for many other range queries. Let's try using them to answer\n",
    "the following queries: give me the sum of all elements between $i$ and $j$."
   ]
  },
  {
   "cell_type": "code",
   "execution_count": 2,
   "metadata": {},
   "outputs": [
    {
     "data": {
      "text/plain": [
       "(25, 31)"
      ]
     },
     "execution_count": 2,
     "metadata": {},
     "output_type": "execute_result"
    }
   ],
   "source": [
    "# <O(n), O(log(n))>\n",
    "# Segment trees for range sum\n",
    "\n",
    "def preprocess(A, tree, node=0, st=0, ed=len(A)):\n",
    "  assert st < ed\n",
    "  if st + 1 == ed:\n",
    "    tree[node] = A[st]\n",
    "  else:\n",
    "    l = preprocess(A, tree, 2 * node + 1, st, (st + ed) // 2)\n",
    "    r = preprocess(A, tree, 2 * node + 2, (st + ed) // 2, ed)\n",
    "    tree[node] = l + r\n",
    "  return tree[node]\n",
    "\n",
    "def query(tree, i, j, node=0, st=0, ed=len(A)):\n",
    "  if i >= ed or j <= st:\n",
    "    return -1\n",
    "  if st >= i and ed <= j:\n",
    "    return tree[node]\n",
    "  l = query(tree, i, j, 2 * node + 1, st, (st + ed) // 2)\n",
    "  r = query(tree, i, j, 2 * node + 2, (st + ed) // 2, ed)\n",
    "\n",
    "  if l == -1: return r\n",
    "  if r == -1: return l\n",
    "  return l + r\n",
    "\n",
    "tree = {}\n",
    "preprocess(A, tree)\n",
    "query(tree, 2, 7), query(tree, 4, 9)"
   ]
  },
  {
   "cell_type": "markdown",
   "metadata": {},
   "source": [
    "Let us plot the tree. Nodes are labeled with their segment (interval) and the value interval holds."
   ]
  },
  {
   "cell_type": "code",
   "execution_count": 3,
   "metadata": {},
   "outputs": [
    {
     "data": {
      "image/svg+xml": "<?xml version=\"1.0\" encoding=\"UTF-8\" standalone=\"no\"?>\n<!DOCTYPE svg PUBLIC \"-//W3C//DTD SVG 1.1//EN\"\n \"http://www.w3.org/Graphics/SVG/1.1/DTD/svg11.dtd\">\n<!-- Generated by graphviz version 2.49.2 (20211016.1639)\n -->\n<!-- Pages: 1 -->\n<svg width=\"416pt\" height=\"288pt\"\n viewBox=\"0.00 0.00 415.53 288.00\" xmlns=\"http://www.w3.org/2000/svg\" xmlns:xlink=\"http://www.w3.org/1999/xlink\">\n<g id=\"graph0\" class=\"graph\" transform=\"scale(0.68 0.68) rotate(0) translate(4 416.7)\">\n<polygon fill=\"white\" stroke=\"transparent\" points=\"-4,4 -4,-416.7 602.99,-416.7 602.99,4 -4,4\"/>\n<!-- 7 -->\n<g id=\"node1\" class=\"node\">\n<title>7</title>\n<ellipse fill=\"none\" stroke=\"black\" cx=\"27\" cy=\"-116.61\" rx=\"27\" ry=\"26.74\"/>\n<text text-anchor=\"middle\" x=\"27\" y=\"-120.41\" font-family=\"Times,serif\" font-size=\"14.00\">0:1</text>\n<text text-anchor=\"middle\" x=\"27\" y=\"-105.41\" font-family=\"Times,serif\" font-size=\"14.00\">2</text>\n</g>\n<!-- 8 -->\n<g id=\"node2\" class=\"node\">\n<title>8</title>\n<ellipse fill=\"none\" stroke=\"black\" cx=\"99\" cy=\"-116.61\" rx=\"27\" ry=\"26.74\"/>\n<text text-anchor=\"middle\" x=\"99\" y=\"-120.41\" font-family=\"Times,serif\" font-size=\"14.00\">1:2</text>\n<text text-anchor=\"middle\" x=\"99\" y=\"-105.41\" font-family=\"Times,serif\" font-size=\"14.00\">4</text>\n</g>\n<!-- 3 -->\n<g id=\"node3\" class=\"node\">\n<title>3</title>\n<ellipse fill=\"none\" stroke=\"black\" cx=\"99\" cy=\"-206.35\" rx=\"27\" ry=\"26.74\"/>\n<text text-anchor=\"middle\" x=\"99\" y=\"-210.15\" font-family=\"Times,serif\" font-size=\"14.00\">0:2</text>\n<text text-anchor=\"middle\" x=\"99\" y=\"-195.15\" font-family=\"Times,serif\" font-size=\"14.00\">6</text>\n</g>\n<!-- 3&#45;&#45;7 -->\n<g id=\"edge1\" class=\"edge\">\n<title>3&#45;&#45;7</title>\n<path fill=\"none\" stroke=\"black\" d=\"M82.3,-185C70.67,-170.83 55.22,-152 43.61,-137.85\"/>\n</g>\n<!-- 3&#45;&#45;8 -->\n<g id=\"edge2\" class=\"edge\">\n<title>3&#45;&#45;8</title>\n<path fill=\"none\" stroke=\"black\" d=\"M99,-179.03C99,-167.82 99,-154.78 99,-143.61\"/>\n</g>\n<!-- 9 -->\n<g id=\"node4\" class=\"node\">\n<title>9</title>\n<ellipse fill=\"none\" stroke=\"black\" cx=\"171\" cy=\"-116.61\" rx=\"27\" ry=\"26.74\"/>\n<text text-anchor=\"middle\" x=\"171\" y=\"-120.41\" font-family=\"Times,serif\" font-size=\"14.00\">2:3</text>\n<text text-anchor=\"middle\" x=\"171\" y=\"-105.41\" font-family=\"Times,serif\" font-size=\"14.00\">3</text>\n</g>\n<!-- 21 -->\n<g id=\"node5\" class=\"node\">\n<title>21</title>\n<ellipse fill=\"none\" stroke=\"black\" cx=\"207\" cy=\"-26.87\" rx=\"27\" ry=\"26.74\"/>\n<text text-anchor=\"middle\" x=\"207\" y=\"-30.67\" font-family=\"Times,serif\" font-size=\"14.00\">3:4</text>\n<text text-anchor=\"middle\" x=\"207\" y=\"-15.67\" font-family=\"Times,serif\" font-size=\"14.00\">1</text>\n</g>\n<!-- 22 -->\n<g id=\"node6\" class=\"node\">\n<title>22</title>\n<ellipse fill=\"none\" stroke=\"black\" cx=\"279\" cy=\"-26.87\" rx=\"27\" ry=\"26.74\"/>\n<text text-anchor=\"middle\" x=\"279\" y=\"-30.67\" font-family=\"Times,serif\" font-size=\"14.00\">4:5</text>\n<text text-anchor=\"middle\" x=\"279\" y=\"-15.67\" font-family=\"Times,serif\" font-size=\"14.00\">6</text>\n</g>\n<!-- 10 -->\n<g id=\"node7\" class=\"node\">\n<title>10</title>\n<ellipse fill=\"none\" stroke=\"black\" cx=\"243\" cy=\"-116.61\" rx=\"27\" ry=\"26.74\"/>\n<text text-anchor=\"middle\" x=\"243\" y=\"-120.41\" font-family=\"Times,serif\" font-size=\"14.00\">3:5</text>\n<text text-anchor=\"middle\" x=\"243\" y=\"-105.41\" font-family=\"Times,serif\" font-size=\"14.00\">7</text>\n</g>\n<!-- 10&#45;&#45;21 -->\n<g id=\"edge3\" class=\"edge\">\n<title>10&#45;&#45;21</title>\n<path fill=\"none\" stroke=\"black\" d=\"M232.97,-91.17C227.98,-79 221.96,-64.33 216.97,-52.18\"/>\n</g>\n<!-- 10&#45;&#45;22 -->\n<g id=\"edge4\" class=\"edge\">\n<title>10&#45;&#45;22</title>\n<path fill=\"none\" stroke=\"black\" d=\"M253.03,-91.17C258.02,-79 264.04,-64.33 269.03,-52.18\"/>\n</g>\n<!-- 4 -->\n<g id=\"node8\" class=\"node\">\n<title>4</title>\n<ellipse fill=\"none\" stroke=\"black\" cx=\"224\" cy=\"-206.35\" rx=\"27\" ry=\"26.74\"/>\n<text text-anchor=\"middle\" x=\"224\" y=\"-210.15\" font-family=\"Times,serif\" font-size=\"14.00\">2:5</text>\n<text text-anchor=\"middle\" x=\"224\" y=\"-195.15\" font-family=\"Times,serif\" font-size=\"14.00\">10</text>\n</g>\n<!-- 4&#45;&#45;9 -->\n<g id=\"edge5\" class=\"edge\">\n<title>4&#45;&#45;9</title>\n<path fill=\"none\" stroke=\"black\" d=\"M210.35,-182.76C202.44,-169.66 192.51,-153.22 184.6,-140.13\"/>\n</g>\n<!-- 4&#45;&#45;10 -->\n<g id=\"edge6\" class=\"edge\">\n<title>4&#45;&#45;10</title>\n<path fill=\"none\" stroke=\"black\" d=\"M229.5,-179.97C232.02,-168.33 235,-154.56 237.52,-142.93\"/>\n</g>\n<!-- 1 -->\n<g id=\"node9\" class=\"node\">\n<title>1</title>\n<ellipse fill=\"none\" stroke=\"black\" cx=\"224\" cy=\"-296.09\" rx=\"27\" ry=\"26.74\"/>\n<text text-anchor=\"middle\" x=\"224\" y=\"-299.89\" font-family=\"Times,serif\" font-size=\"14.00\">0:5</text>\n<text text-anchor=\"middle\" x=\"224\" y=\"-284.89\" font-family=\"Times,serif\" font-size=\"14.00\">16</text>\n</g>\n<!-- 1&#45;&#45;3 -->\n<g id=\"edge7\" class=\"edge\">\n<title>1&#45;&#45;3</title>\n<path fill=\"none\" stroke=\"black\" d=\"M202.23,-279.81C179.42,-263.8 143.81,-238.8 120.94,-222.75\"/>\n</g>\n<!-- 1&#45;&#45;4 -->\n<g id=\"edge8\" class=\"edge\">\n<title>1&#45;&#45;4</title>\n<path fill=\"none\" stroke=\"black\" d=\"M224,-268.77C224,-257.56 224,-244.52 224,-233.35\"/>\n</g>\n<!-- 11 -->\n<g id=\"node10\" class=\"node\">\n<title>11</title>\n<ellipse fill=\"none\" stroke=\"black\" cx=\"315\" cy=\"-116.61\" rx=\"27\" ry=\"26.74\"/>\n<text text-anchor=\"middle\" x=\"315\" y=\"-120.41\" font-family=\"Times,serif\" font-size=\"14.00\">5:6</text>\n<text text-anchor=\"middle\" x=\"315\" y=\"-105.41\" font-family=\"Times,serif\" font-size=\"14.00\">7</text>\n</g>\n<!-- 12 -->\n<g id=\"node11\" class=\"node\">\n<title>12</title>\n<ellipse fill=\"none\" stroke=\"black\" cx=\"387\" cy=\"-116.61\" rx=\"27\" ry=\"26.74\"/>\n<text text-anchor=\"middle\" x=\"387\" y=\"-120.41\" font-family=\"Times,serif\" font-size=\"14.00\">6:7</text>\n<text text-anchor=\"middle\" x=\"387\" y=\"-105.41\" font-family=\"Times,serif\" font-size=\"14.00\">8</text>\n</g>\n<!-- 5 -->\n<g id=\"node12\" class=\"node\">\n<title>5</title>\n<ellipse fill=\"none\" stroke=\"black\" cx=\"333\" cy=\"-206.35\" rx=\"27\" ry=\"26.74\"/>\n<text text-anchor=\"middle\" x=\"333\" y=\"-210.15\" font-family=\"Times,serif\" font-size=\"14.00\">5:7</text>\n<text text-anchor=\"middle\" x=\"333\" y=\"-195.15\" font-family=\"Times,serif\" font-size=\"14.00\">15</text>\n</g>\n<!-- 5&#45;&#45;11 -->\n<g id=\"edge9\" class=\"edge\">\n<title>5&#45;&#45;11</title>\n<path fill=\"none\" stroke=\"black\" d=\"M327.79,-179.97C325.43,-168.43 322.63,-154.8 320.26,-143.24\"/>\n</g>\n<!-- 5&#45;&#45;12 -->\n<g id=\"edge10\" class=\"edge\">\n<title>5&#45;&#45;12</title>\n<path fill=\"none\" stroke=\"black\" d=\"M346.91,-182.76C355.03,-169.55 365.24,-152.96 373.33,-139.83\"/>\n</g>\n<!-- 13 -->\n<g id=\"node13\" class=\"node\">\n<title>13</title>\n<ellipse fill=\"none\" stroke=\"black\" cx=\"459\" cy=\"-116.61\" rx=\"27\" ry=\"26.74\"/>\n<text text-anchor=\"middle\" x=\"459\" y=\"-120.41\" font-family=\"Times,serif\" font-size=\"14.00\">7:8</text>\n<text text-anchor=\"middle\" x=\"459\" y=\"-105.41\" font-family=\"Times,serif\" font-size=\"14.00\">9</text>\n</g>\n<!-- 29 -->\n<g id=\"node14\" class=\"node\">\n<title>29</title>\n<ellipse fill=\"none\" stroke=\"black\" cx=\"496\" cy=\"-26.87\" rx=\"27\" ry=\"26.74\"/>\n<text text-anchor=\"middle\" x=\"496\" y=\"-30.67\" font-family=\"Times,serif\" font-size=\"14.00\">8:9</text>\n<text text-anchor=\"middle\" x=\"496\" y=\"-15.67\" font-family=\"Times,serif\" font-size=\"14.00\">1</text>\n</g>\n<!-- 30 -->\n<g id=\"node15\" class=\"node\">\n<title>30</title>\n<ellipse fill=\"none\" stroke=\"black\" cx=\"570\" cy=\"-26.87\" rx=\"28.98\" ry=\"26.74\"/>\n<text text-anchor=\"middle\" x=\"570\" y=\"-30.67\" font-family=\"Times,serif\" font-size=\"14.00\">9:10</text>\n<text text-anchor=\"middle\" x=\"570\" y=\"-15.67\" font-family=\"Times,serif\" font-size=\"14.00\">7</text>\n</g>\n<!-- 14 -->\n<g id=\"node16\" class=\"node\">\n<title>14</title>\n<ellipse fill=\"none\" stroke=\"black\" cx=\"533\" cy=\"-116.61\" rx=\"28.98\" ry=\"26.74\"/>\n<text text-anchor=\"middle\" x=\"533\" y=\"-120.41\" font-family=\"Times,serif\" font-size=\"14.00\">8:10</text>\n<text text-anchor=\"middle\" x=\"533\" y=\"-105.41\" font-family=\"Times,serif\" font-size=\"14.00\">8</text>\n</g>\n<!-- 14&#45;&#45;29 -->\n<g id=\"edge11\" class=\"edge\">\n<title>14&#45;&#45;29</title>\n<path fill=\"none\" stroke=\"black\" d=\"M522.69,-91.17C517.52,-78.9 511.27,-64.09 506.12,-51.88\"/>\n</g>\n<!-- 14&#45;&#45;30 -->\n<g id=\"edge12\" class=\"edge\">\n<title>14&#45;&#45;30</title>\n<path fill=\"none\" stroke=\"black\" d=\"M543.31,-91.17C548.44,-79 554.62,-64.33 559.75,-52.18\"/>\n</g>\n<!-- 6 -->\n<g id=\"node17\" class=\"node\">\n<title>6</title>\n<ellipse fill=\"none\" stroke=\"black\" cx=\"459\" cy=\"-206.35\" rx=\"28.98\" ry=\"26.74\"/>\n<text text-anchor=\"middle\" x=\"459\" y=\"-210.15\" font-family=\"Times,serif\" font-size=\"14.00\">7:10</text>\n<text text-anchor=\"middle\" x=\"459\" y=\"-195.15\" font-family=\"Times,serif\" font-size=\"14.00\">17</text>\n</g>\n<!-- 6&#45;&#45;13 -->\n<g id=\"edge13\" class=\"edge\">\n<title>6&#45;&#45;13</title>\n<path fill=\"none\" stroke=\"black\" d=\"M459,-179.03C459,-167.82 459,-154.78 459,-143.61\"/>\n</g>\n<!-- 6&#45;&#45;14 -->\n<g id=\"edge14\" class=\"edge\">\n<title>6&#45;&#45;14</title>\n<path fill=\"none\" stroke=\"black\" d=\"M476.54,-184.56C488.33,-170.57 503.82,-152.21 515.59,-138.25\"/>\n</g>\n<!-- 2 -->\n<g id=\"node18\" class=\"node\">\n<title>2</title>\n<ellipse fill=\"none\" stroke=\"black\" cx=\"333\" cy=\"-296.09\" rx=\"28.98\" ry=\"26.74\"/>\n<text text-anchor=\"middle\" x=\"333\" y=\"-299.89\" font-family=\"Times,serif\" font-size=\"14.00\">5:10</text>\n<text text-anchor=\"middle\" x=\"333\" y=\"-284.89\" font-family=\"Times,serif\" font-size=\"14.00\">32</text>\n</g>\n<!-- 2&#45;&#45;5 -->\n<g id=\"edge15\" class=\"edge\">\n<title>2&#45;&#45;5</title>\n<path fill=\"none\" stroke=\"black\" d=\"M333,-268.77C333,-257.56 333,-244.52 333,-233.35\"/>\n</g>\n<!-- 2&#45;&#45;6 -->\n<g id=\"edge16\" class=\"edge\">\n<title>2&#45;&#45;6</title>\n<path fill=\"none\" stroke=\"black\" d=\"M355.82,-279.2C378.51,-263.4 413.14,-239.28 435.93,-223.42\"/>\n</g>\n<!-- 0 -->\n<g id=\"node19\" class=\"node\">\n<title>0</title>\n<ellipse fill=\"none\" stroke=\"black\" cx=\"261\" cy=\"-385.83\" rx=\"28.98\" ry=\"26.74\"/>\n<text text-anchor=\"middle\" x=\"261\" y=\"-389.63\" font-family=\"Times,serif\" font-size=\"14.00\">0:10</text>\n<text text-anchor=\"middle\" x=\"261\" y=\"-374.63\" font-family=\"Times,serif\" font-size=\"14.00\">48</text>\n</g>\n<!-- 0&#45;&#45;1 -->\n<g id=\"edge17\" class=\"edge\">\n<title>0&#45;&#45;1</title>\n<path fill=\"none\" stroke=\"black\" d=\"M250.69,-360.39C245.52,-348.12 239.27,-333.31 234.12,-321.1\"/>\n</g>\n<!-- 0&#45;&#45;2 -->\n<g id=\"edge18\" class=\"edge\">\n<title>0&#45;&#45;2</title>\n<path fill=\"none\" stroke=\"black\" d=\"M278.06,-364.04C289.46,-350.15 304.39,-331.96 315.81,-318.04\"/>\n</g>\n</g>\n</svg>\n",
      "text/plain": [
       "<graphviz.dot.Graph at 0x1105df110>"
      ]
     },
     "execution_count": 3,
     "metadata": {},
     "output_type": "execute_result"
    }
   ],
   "source": [
    "import graphviz\n",
    "\n",
    "def plot(tree):\n",
    "  def preprocess(g, tree, node=0, st=0, ed=len(A)):\n",
    "    assert st < ed\n",
    "    if st + 1 == ed:\n",
    "      g.node(str(node), label=f'{st}:{st+1}\\n{tree[node]}')\n",
    "    else:\n",
    "      preprocess(g, tree, 2 * node + 1, st, (st + ed) // 2)\n",
    "      preprocess(g, tree, 2 * node + 2, (st + ed) // 2, ed)\n",
    "      g.node(str(node), label=f'{st}:{ed}\\n{tree[node]}')\n",
    "  g = graphviz.Graph()\n",
    "  g.graph_attr.update(size=\"6,4\")\n",
    "  preprocess(g, tree)\n",
    "  for n in tree:\n",
    "    if 2*n+1 in tree: g.edge(str(n), str(2*n+1))\n",
    "    if 2*n+2 in tree: g.edge(str(n), str(2*n+2))\n",
    "  return g\n",
    "\n",
    "plot(tree)"
   ]
  },
  {
   "cell_type": "markdown",
   "metadata": {},
   "source": [
    "Segment trees allow us to support efficient table update requests as well:"
   ]
  },
  {
   "cell_type": "code",
   "execution_count": 4,
   "metadata": {},
   "outputs": [
    {
     "data": {
      "image/svg+xml": "<?xml version=\"1.0\" encoding=\"UTF-8\" standalone=\"no\"?>\n<!DOCTYPE svg PUBLIC \"-//W3C//DTD SVG 1.1//EN\"\n \"http://www.w3.org/Graphics/SVG/1.1/DTD/svg11.dtd\">\n<!-- Generated by graphviz version 2.49.2 (20211016.1639)\n -->\n<!-- Pages: 1 -->\n<svg width=\"416pt\" height=\"288pt\"\n viewBox=\"0.00 0.00 415.53 288.00\" xmlns=\"http://www.w3.org/2000/svg\" xmlns:xlink=\"http://www.w3.org/1999/xlink\">\n<g id=\"graph0\" class=\"graph\" transform=\"scale(0.68 0.68) rotate(0) translate(4 416.7)\">\n<polygon fill=\"white\" stroke=\"transparent\" points=\"-4,4 -4,-416.7 602.99,-416.7 602.99,4 -4,4\"/>\n<!-- 7 -->\n<g id=\"node1\" class=\"node\">\n<title>7</title>\n<ellipse fill=\"none\" stroke=\"black\" cx=\"27\" cy=\"-116.61\" rx=\"27\" ry=\"26.74\"/>\n<text text-anchor=\"middle\" x=\"27\" y=\"-120.41\" font-family=\"Times,serif\" font-size=\"14.00\">0:1</text>\n<text text-anchor=\"middle\" x=\"27\" y=\"-105.41\" font-family=\"Times,serif\" font-size=\"14.00\">2</text>\n</g>\n<!-- 8 -->\n<g id=\"node2\" class=\"node\">\n<title>8</title>\n<ellipse fill=\"none\" stroke=\"black\" cx=\"99\" cy=\"-116.61\" rx=\"27\" ry=\"26.74\"/>\n<text text-anchor=\"middle\" x=\"99\" y=\"-120.41\" font-family=\"Times,serif\" font-size=\"14.00\">1:2</text>\n<text text-anchor=\"middle\" x=\"99\" y=\"-105.41\" font-family=\"Times,serif\" font-size=\"14.00\">4</text>\n</g>\n<!-- 3 -->\n<g id=\"node3\" class=\"node\">\n<title>3</title>\n<ellipse fill=\"none\" stroke=\"black\" cx=\"99\" cy=\"-206.35\" rx=\"27\" ry=\"26.74\"/>\n<text text-anchor=\"middle\" x=\"99\" y=\"-210.15\" font-family=\"Times,serif\" font-size=\"14.00\">0:2</text>\n<text text-anchor=\"middle\" x=\"99\" y=\"-195.15\" font-family=\"Times,serif\" font-size=\"14.00\">6</text>\n</g>\n<!-- 3&#45;&#45;7 -->\n<g id=\"edge1\" class=\"edge\">\n<title>3&#45;&#45;7</title>\n<path fill=\"none\" stroke=\"black\" d=\"M82.3,-185C70.67,-170.83 55.22,-152 43.61,-137.85\"/>\n</g>\n<!-- 3&#45;&#45;8 -->\n<g id=\"edge2\" class=\"edge\">\n<title>3&#45;&#45;8</title>\n<path fill=\"none\" stroke=\"black\" d=\"M99,-179.03C99,-167.82 99,-154.78 99,-143.61\"/>\n</g>\n<!-- 9 -->\n<g id=\"node4\" class=\"node\">\n<title>9</title>\n<ellipse fill=\"none\" stroke=\"black\" cx=\"171\" cy=\"-116.61\" rx=\"27\" ry=\"26.74\"/>\n<text text-anchor=\"middle\" x=\"171\" y=\"-120.41\" font-family=\"Times,serif\" font-size=\"14.00\">2:3</text>\n<text text-anchor=\"middle\" x=\"171\" y=\"-105.41\" font-family=\"Times,serif\" font-size=\"14.00\">3</text>\n</g>\n<!-- 21 -->\n<g id=\"node5\" class=\"node\">\n<title>21</title>\n<ellipse fill=\"none\" stroke=\"black\" cx=\"207\" cy=\"-26.87\" rx=\"27\" ry=\"26.74\"/>\n<text text-anchor=\"middle\" x=\"207\" y=\"-30.67\" font-family=\"Times,serif\" font-size=\"14.00\">3:4</text>\n<text text-anchor=\"middle\" x=\"207\" y=\"-15.67\" font-family=\"Times,serif\" font-size=\"14.00\">20</text>\n</g>\n<!-- 22 -->\n<g id=\"node6\" class=\"node\">\n<title>22</title>\n<ellipse fill=\"none\" stroke=\"black\" cx=\"279\" cy=\"-26.87\" rx=\"27\" ry=\"26.74\"/>\n<text text-anchor=\"middle\" x=\"279\" y=\"-30.67\" font-family=\"Times,serif\" font-size=\"14.00\">4:5</text>\n<text text-anchor=\"middle\" x=\"279\" y=\"-15.67\" font-family=\"Times,serif\" font-size=\"14.00\">6</text>\n</g>\n<!-- 10 -->\n<g id=\"node7\" class=\"node\">\n<title>10</title>\n<ellipse fill=\"none\" stroke=\"black\" cx=\"243\" cy=\"-116.61\" rx=\"27\" ry=\"26.74\"/>\n<text text-anchor=\"middle\" x=\"243\" y=\"-120.41\" font-family=\"Times,serif\" font-size=\"14.00\">3:5</text>\n<text text-anchor=\"middle\" x=\"243\" y=\"-105.41\" font-family=\"Times,serif\" font-size=\"14.00\">26</text>\n</g>\n<!-- 10&#45;&#45;21 -->\n<g id=\"edge3\" class=\"edge\">\n<title>10&#45;&#45;21</title>\n<path fill=\"none\" stroke=\"black\" d=\"M232.97,-91.17C227.98,-79 221.96,-64.33 216.97,-52.18\"/>\n</g>\n<!-- 10&#45;&#45;22 -->\n<g id=\"edge4\" class=\"edge\">\n<title>10&#45;&#45;22</title>\n<path fill=\"none\" stroke=\"black\" d=\"M253.03,-91.17C258.02,-79 264.04,-64.33 269.03,-52.18\"/>\n</g>\n<!-- 4 -->\n<g id=\"node8\" class=\"node\">\n<title>4</title>\n<ellipse fill=\"none\" stroke=\"black\" cx=\"224\" cy=\"-206.35\" rx=\"27\" ry=\"26.74\"/>\n<text text-anchor=\"middle\" x=\"224\" y=\"-210.15\" font-family=\"Times,serif\" font-size=\"14.00\">2:5</text>\n<text text-anchor=\"middle\" x=\"224\" y=\"-195.15\" font-family=\"Times,serif\" font-size=\"14.00\">29</text>\n</g>\n<!-- 4&#45;&#45;9 -->\n<g id=\"edge5\" class=\"edge\">\n<title>4&#45;&#45;9</title>\n<path fill=\"none\" stroke=\"black\" d=\"M210.35,-182.76C202.44,-169.66 192.51,-153.22 184.6,-140.13\"/>\n</g>\n<!-- 4&#45;&#45;10 -->\n<g id=\"edge6\" class=\"edge\">\n<title>4&#45;&#45;10</title>\n<path fill=\"none\" stroke=\"black\" d=\"M229.5,-179.97C232.02,-168.33 235,-154.56 237.52,-142.93\"/>\n</g>\n<!-- 1 -->\n<g id=\"node9\" class=\"node\">\n<title>1</title>\n<ellipse fill=\"none\" stroke=\"black\" cx=\"224\" cy=\"-296.09\" rx=\"27\" ry=\"26.74\"/>\n<text text-anchor=\"middle\" x=\"224\" y=\"-299.89\" font-family=\"Times,serif\" font-size=\"14.00\">0:5</text>\n<text text-anchor=\"middle\" x=\"224\" y=\"-284.89\" font-family=\"Times,serif\" font-size=\"14.00\">35</text>\n</g>\n<!-- 1&#45;&#45;3 -->\n<g id=\"edge7\" class=\"edge\">\n<title>1&#45;&#45;3</title>\n<path fill=\"none\" stroke=\"black\" d=\"M202.23,-279.81C179.42,-263.8 143.81,-238.8 120.94,-222.75\"/>\n</g>\n<!-- 1&#45;&#45;4 -->\n<g id=\"edge8\" class=\"edge\">\n<title>1&#45;&#45;4</title>\n<path fill=\"none\" stroke=\"black\" d=\"M224,-268.77C224,-257.56 224,-244.52 224,-233.35\"/>\n</g>\n<!-- 11 -->\n<g id=\"node10\" class=\"node\">\n<title>11</title>\n<ellipse fill=\"none\" stroke=\"black\" cx=\"315\" cy=\"-116.61\" rx=\"27\" ry=\"26.74\"/>\n<text text-anchor=\"middle\" x=\"315\" y=\"-120.41\" font-family=\"Times,serif\" font-size=\"14.00\">5:6</text>\n<text text-anchor=\"middle\" x=\"315\" y=\"-105.41\" font-family=\"Times,serif\" font-size=\"14.00\">7</text>\n</g>\n<!-- 12 -->\n<g id=\"node11\" class=\"node\">\n<title>12</title>\n<ellipse fill=\"none\" stroke=\"black\" cx=\"387\" cy=\"-116.61\" rx=\"27\" ry=\"26.74\"/>\n<text text-anchor=\"middle\" x=\"387\" y=\"-120.41\" font-family=\"Times,serif\" font-size=\"14.00\">6:7</text>\n<text text-anchor=\"middle\" x=\"387\" y=\"-105.41\" font-family=\"Times,serif\" font-size=\"14.00\">8</text>\n</g>\n<!-- 5 -->\n<g id=\"node12\" class=\"node\">\n<title>5</title>\n<ellipse fill=\"none\" stroke=\"black\" cx=\"333\" cy=\"-206.35\" rx=\"27\" ry=\"26.74\"/>\n<text text-anchor=\"middle\" x=\"333\" y=\"-210.15\" font-family=\"Times,serif\" font-size=\"14.00\">5:7</text>\n<text text-anchor=\"middle\" x=\"333\" y=\"-195.15\" font-family=\"Times,serif\" font-size=\"14.00\">15</text>\n</g>\n<!-- 5&#45;&#45;11 -->\n<g id=\"edge9\" class=\"edge\">\n<title>5&#45;&#45;11</title>\n<path fill=\"none\" stroke=\"black\" d=\"M327.79,-179.97C325.43,-168.43 322.63,-154.8 320.26,-143.24\"/>\n</g>\n<!-- 5&#45;&#45;12 -->\n<g id=\"edge10\" class=\"edge\">\n<title>5&#45;&#45;12</title>\n<path fill=\"none\" stroke=\"black\" d=\"M346.91,-182.76C355.03,-169.55 365.24,-152.96 373.33,-139.83\"/>\n</g>\n<!-- 13 -->\n<g id=\"node13\" class=\"node\">\n<title>13</title>\n<ellipse fill=\"none\" stroke=\"black\" cx=\"459\" cy=\"-116.61\" rx=\"27\" ry=\"26.74\"/>\n<text text-anchor=\"middle\" x=\"459\" y=\"-120.41\" font-family=\"Times,serif\" font-size=\"14.00\">7:8</text>\n<text text-anchor=\"middle\" x=\"459\" y=\"-105.41\" font-family=\"Times,serif\" font-size=\"14.00\">9</text>\n</g>\n<!-- 29 -->\n<g id=\"node14\" class=\"node\">\n<title>29</title>\n<ellipse fill=\"none\" stroke=\"black\" cx=\"496\" cy=\"-26.87\" rx=\"27\" ry=\"26.74\"/>\n<text text-anchor=\"middle\" x=\"496\" y=\"-30.67\" font-family=\"Times,serif\" font-size=\"14.00\">8:9</text>\n<text text-anchor=\"middle\" x=\"496\" y=\"-15.67\" font-family=\"Times,serif\" font-size=\"14.00\">1</text>\n</g>\n<!-- 30 -->\n<g id=\"node15\" class=\"node\">\n<title>30</title>\n<ellipse fill=\"none\" stroke=\"black\" cx=\"570\" cy=\"-26.87\" rx=\"28.98\" ry=\"26.74\"/>\n<text text-anchor=\"middle\" x=\"570\" y=\"-30.67\" font-family=\"Times,serif\" font-size=\"14.00\">9:10</text>\n<text text-anchor=\"middle\" x=\"570\" y=\"-15.67\" font-family=\"Times,serif\" font-size=\"14.00\">7</text>\n</g>\n<!-- 14 -->\n<g id=\"node16\" class=\"node\">\n<title>14</title>\n<ellipse fill=\"none\" stroke=\"black\" cx=\"533\" cy=\"-116.61\" rx=\"28.98\" ry=\"26.74\"/>\n<text text-anchor=\"middle\" x=\"533\" y=\"-120.41\" font-family=\"Times,serif\" font-size=\"14.00\">8:10</text>\n<text text-anchor=\"middle\" x=\"533\" y=\"-105.41\" font-family=\"Times,serif\" font-size=\"14.00\">8</text>\n</g>\n<!-- 14&#45;&#45;29 -->\n<g id=\"edge11\" class=\"edge\">\n<title>14&#45;&#45;29</title>\n<path fill=\"none\" stroke=\"black\" d=\"M522.69,-91.17C517.52,-78.9 511.27,-64.09 506.12,-51.88\"/>\n</g>\n<!-- 14&#45;&#45;30 -->\n<g id=\"edge12\" class=\"edge\">\n<title>14&#45;&#45;30</title>\n<path fill=\"none\" stroke=\"black\" d=\"M543.31,-91.17C548.44,-79 554.62,-64.33 559.75,-52.18\"/>\n</g>\n<!-- 6 -->\n<g id=\"node17\" class=\"node\">\n<title>6</title>\n<ellipse fill=\"none\" stroke=\"black\" cx=\"459\" cy=\"-206.35\" rx=\"28.98\" ry=\"26.74\"/>\n<text text-anchor=\"middle\" x=\"459\" y=\"-210.15\" font-family=\"Times,serif\" font-size=\"14.00\">7:10</text>\n<text text-anchor=\"middle\" x=\"459\" y=\"-195.15\" font-family=\"Times,serif\" font-size=\"14.00\">17</text>\n</g>\n<!-- 6&#45;&#45;13 -->\n<g id=\"edge13\" class=\"edge\">\n<title>6&#45;&#45;13</title>\n<path fill=\"none\" stroke=\"black\" d=\"M459,-179.03C459,-167.82 459,-154.78 459,-143.61\"/>\n</g>\n<!-- 6&#45;&#45;14 -->\n<g id=\"edge14\" class=\"edge\">\n<title>6&#45;&#45;14</title>\n<path fill=\"none\" stroke=\"black\" d=\"M476.54,-184.56C488.33,-170.57 503.82,-152.21 515.59,-138.25\"/>\n</g>\n<!-- 2 -->\n<g id=\"node18\" class=\"node\">\n<title>2</title>\n<ellipse fill=\"none\" stroke=\"black\" cx=\"333\" cy=\"-296.09\" rx=\"28.98\" ry=\"26.74\"/>\n<text text-anchor=\"middle\" x=\"333\" y=\"-299.89\" font-family=\"Times,serif\" font-size=\"14.00\">5:10</text>\n<text text-anchor=\"middle\" x=\"333\" y=\"-284.89\" font-family=\"Times,serif\" font-size=\"14.00\">32</text>\n</g>\n<!-- 2&#45;&#45;5 -->\n<g id=\"edge15\" class=\"edge\">\n<title>2&#45;&#45;5</title>\n<path fill=\"none\" stroke=\"black\" d=\"M333,-268.77C333,-257.56 333,-244.52 333,-233.35\"/>\n</g>\n<!-- 2&#45;&#45;6 -->\n<g id=\"edge16\" class=\"edge\">\n<title>2&#45;&#45;6</title>\n<path fill=\"none\" stroke=\"black\" d=\"M355.82,-279.2C378.51,-263.4 413.14,-239.28 435.93,-223.42\"/>\n</g>\n<!-- 0 -->\n<g id=\"node19\" class=\"node\">\n<title>0</title>\n<ellipse fill=\"none\" stroke=\"black\" cx=\"261\" cy=\"-385.83\" rx=\"28.98\" ry=\"26.74\"/>\n<text text-anchor=\"middle\" x=\"261\" y=\"-389.63\" font-family=\"Times,serif\" font-size=\"14.00\">0:10</text>\n<text text-anchor=\"middle\" x=\"261\" y=\"-374.63\" font-family=\"Times,serif\" font-size=\"14.00\">67</text>\n</g>\n<!-- 0&#45;&#45;1 -->\n<g id=\"edge17\" class=\"edge\">\n<title>0&#45;&#45;1</title>\n<path fill=\"none\" stroke=\"black\" d=\"M250.69,-360.39C245.52,-348.12 239.27,-333.31 234.12,-321.1\"/>\n</g>\n<!-- 0&#45;&#45;2 -->\n<g id=\"edge18\" class=\"edge\">\n<title>0&#45;&#45;2</title>\n<path fill=\"none\" stroke=\"black\" d=\"M278.06,-364.04C289.46,-350.15 304.39,-331.96 315.81,-318.04\"/>\n</g>\n</g>\n</svg>\n",
      "text/plain": [
       "<graphviz.dot.Graph at 0x1105b67d0>"
      ]
     },
     "execution_count": 4,
     "metadata": {},
     "output_type": "execute_result"
    }
   ],
   "source": [
    "# O(log(n)) update procedure; O(span * log(n)) range update\n",
    "\n",
    "def update(tree, i, val, node=0, st=0, ed=len(A)):\n",
    "  if st + 1 == ed:\n",
    "    if st == i: \n",
    "      tree[node] = val\n",
    "  else:\n",
    "    l = update(tree, i, val, 2 * node + 1, st, (st + ed) // 2)\n",
    "    r = update(tree, i, val, 2 * node + 2, (st + ed) // 2, ed)\n",
    "    tree[node] = l + r\n",
    "  return tree[node]\n",
    "\n",
    "def range_update(tree, i, j, val):\n",
    "  for x in range(i, j):\n",
    "    update(tree, x, val)\n",
    "\n",
    "update(tree, 3, 20)\n",
    "plot(tree)\n"
   ]
  },
  {
   "cell_type": "markdown",
   "metadata": {},
   "source": [
    "Naive update is not very performant if we want to update the whole range in batch.\n",
    "For that sort of queries, we can use **lazy propagation**."
   ]
  },
  {
   "cell_type": "code",
   "execution_count": 15,
   "metadata": {},
   "outputs": [
    {
     "data": {
      "image/svg+xml": "<?xml version=\"1.0\" encoding=\"UTF-8\" standalone=\"no\"?>\n<!DOCTYPE svg PUBLIC \"-//W3C//DTD SVG 1.1//EN\"\n \"http://www.w3.org/Graphics/SVG/1.1/DTD/svg11.dtd\">\n<!-- Generated by graphviz version 2.49.2 (20211016.1639)\n -->\n<!-- Pages: 1 -->\n<svg width=\"432pt\" height=\"259pt\"\n viewBox=\"0.00 0.00 432.00 259.33\" xmlns=\"http://www.w3.org/2000/svg\" xmlns:xlink=\"http://www.w3.org/1999/xlink\">\n<g id=\"graph0\" class=\"graph\" transform=\"scale(0.62 0.62) rotate(0) translate(4 416.7)\">\n<polygon fill=\"white\" stroke=\"transparent\" points=\"-4,4 -4,-416.7 696.81,-416.7 696.81,4 -4,4\"/>\n<!-- 7 -->\n<g id=\"node1\" class=\"node\">\n<title>7</title>\n<ellipse fill=\"none\" stroke=\"black\" cx=\"30.41\" cy=\"-116.61\" rx=\"30.31\" ry=\"26.74\"/>\n<text text-anchor=\"middle\" x=\"30.41\" y=\"-120.41\" font-family=\"Times,serif\" font-size=\"14.00\">0:1</text>\n<text text-anchor=\"middle\" x=\"30.41\" y=\"-105.41\" font-family=\"Times,serif\" font-size=\"14.00\">2 (0)</text>\n</g>\n<!-- 8 -->\n<g id=\"node2\" class=\"node\">\n<title>8</title>\n<ellipse fill=\"none\" stroke=\"black\" cx=\"109.41\" cy=\"-116.61\" rx=\"30.31\" ry=\"26.74\"/>\n<text text-anchor=\"middle\" x=\"109.41\" y=\"-120.41\" font-family=\"Times,serif\" font-size=\"14.00\">1:2</text>\n<text text-anchor=\"middle\" x=\"109.41\" y=\"-105.41\" font-family=\"Times,serif\" font-size=\"14.00\">4 (0)</text>\n</g>\n<!-- 3 -->\n<g id=\"node3\" class=\"node\">\n<title>3</title>\n<ellipse fill=\"none\" stroke=\"black\" cx=\"109.41\" cy=\"-206.35\" rx=\"30.31\" ry=\"26.74\"/>\n<text text-anchor=\"middle\" x=\"109.41\" y=\"-210.15\" font-family=\"Times,serif\" font-size=\"14.00\">0:2</text>\n<text text-anchor=\"middle\" x=\"109.41\" y=\"-195.15\" font-family=\"Times,serif\" font-size=\"14.00\">6 (0)</text>\n</g>\n<!-- 3&#45;&#45;7 -->\n<g id=\"edge1\" class=\"edge\">\n<title>3&#45;&#45;7</title>\n<path fill=\"none\" stroke=\"black\" d=\"M90.68,-184.56C78.09,-170.57 61.56,-152.21 48.99,-138.25\"/>\n</g>\n<!-- 3&#45;&#45;8 -->\n<g id=\"edge2\" class=\"edge\">\n<title>3&#45;&#45;8</title>\n<path fill=\"none\" stroke=\"black\" d=\"M109.41,-179.03C109.41,-167.82 109.41,-154.78 109.41,-143.61\"/>\n</g>\n<!-- 9 -->\n<g id=\"node4\" class=\"node\">\n<title>9</title>\n<ellipse fill=\"none\" stroke=\"black\" cx=\"188.41\" cy=\"-116.61\" rx=\"30.31\" ry=\"26.74\"/>\n<text text-anchor=\"middle\" x=\"188.41\" y=\"-120.41\" font-family=\"Times,serif\" font-size=\"14.00\">2:3</text>\n<text text-anchor=\"middle\" x=\"188.41\" y=\"-105.41\" font-family=\"Times,serif\" font-size=\"14.00\">3 (0)</text>\n</g>\n<!-- 21 -->\n<g id=\"node5\" class=\"node\">\n<title>21</title>\n<ellipse fill=\"none\" stroke=\"black\" cx=\"230.41\" cy=\"-26.87\" rx=\"30.31\" ry=\"26.74\"/>\n<text text-anchor=\"middle\" x=\"230.41\" y=\"-30.67\" font-family=\"Times,serif\" font-size=\"14.00\">3:4</text>\n<text text-anchor=\"middle\" x=\"230.41\" y=\"-15.67\" font-family=\"Times,serif\" font-size=\"14.00\">1 (0)</text>\n</g>\n<!-- 22 -->\n<g id=\"node6\" class=\"node\">\n<title>22</title>\n<ellipse fill=\"none\" stroke=\"black\" cx=\"314.41\" cy=\"-26.87\" rx=\"35.21\" ry=\"26.74\"/>\n<text text-anchor=\"middle\" x=\"314.41\" y=\"-30.67\" font-family=\"Times,serif\" font-size=\"14.00\">4:5</text>\n<text text-anchor=\"middle\" x=\"314.41\" y=\"-15.67\" font-family=\"Times,serif\" font-size=\"14.00\">16 (0)</text>\n</g>\n<!-- 10 -->\n<g id=\"node7\" class=\"node\">\n<title>10</title>\n<ellipse fill=\"none\" stroke=\"black\" cx=\"272.41\" cy=\"-116.61\" rx=\"35.21\" ry=\"26.74\"/>\n<text text-anchor=\"middle\" x=\"272.41\" y=\"-120.41\" font-family=\"Times,serif\" font-size=\"14.00\">3:5</text>\n<text text-anchor=\"middle\" x=\"272.41\" y=\"-105.41\" font-family=\"Times,serif\" font-size=\"14.00\">17 (0)</text>\n</g>\n<!-- 10&#45;&#45;21 -->\n<g id=\"edge3\" class=\"edge\">\n<title>10&#45;&#45;21</title>\n<path fill=\"none\" stroke=\"black\" d=\"M260.71,-91.17C254.83,-78.9 247.74,-64.09 241.9,-51.88\"/>\n</g>\n<!-- 10&#45;&#45;22 -->\n<g id=\"edge4\" class=\"edge\">\n<title>10&#45;&#45;22</title>\n<path fill=\"none\" stroke=\"black\" d=\"M284.1,-91.17C289.88,-79.1 296.84,-64.58 302.62,-52.48\"/>\n</g>\n<!-- 4 -->\n<g id=\"node8\" class=\"node\">\n<title>4</title>\n<ellipse fill=\"none\" stroke=\"black\" cx=\"233.41\" cy=\"-206.35\" rx=\"35.21\" ry=\"26.74\"/>\n<text text-anchor=\"middle\" x=\"233.41\" y=\"-210.15\" font-family=\"Times,serif\" font-size=\"14.00\">2:5</text>\n<text text-anchor=\"middle\" x=\"233.41\" y=\"-195.15\" font-family=\"Times,serif\" font-size=\"14.00\">20 (0)</text>\n</g>\n<!-- 4&#45;&#45;9 -->\n<g id=\"edge5\" class=\"edge\">\n<title>4&#45;&#45;9</title>\n<path fill=\"none\" stroke=\"black\" d=\"M220.87,-180.91C214.53,-168.54 206.85,-153.58 200.56,-141.31\"/>\n</g>\n<!-- 4&#45;&#45;10 -->\n<g id=\"edge6\" class=\"edge\">\n<title>4&#45;&#45;10</title>\n<path fill=\"none\" stroke=\"black\" d=\"M244.48,-180.44C249.79,-168.49 256.14,-154.2 261.44,-142.28\"/>\n</g>\n<!-- 1 -->\n<g id=\"node9\" class=\"node\">\n<title>1</title>\n<ellipse fill=\"none\" stroke=\"black\" cx=\"233.41\" cy=\"-296.09\" rx=\"35.21\" ry=\"26.74\"/>\n<text text-anchor=\"middle\" x=\"233.41\" y=\"-299.89\" font-family=\"Times,serif\" font-size=\"14.00\">0:5</text>\n<text text-anchor=\"middle\" x=\"233.41\" y=\"-284.89\" font-family=\"Times,serif\" font-size=\"14.00\">26 (0)</text>\n</g>\n<!-- 1&#45;&#45;3 -->\n<g id=\"edge7\" class=\"edge\">\n<title>1&#45;&#45;3</title>\n<path fill=\"none\" stroke=\"black\" d=\"M208.01,-277.12C185.91,-261.48 154.13,-238.99 132.67,-223.81\"/>\n</g>\n<!-- 1&#45;&#45;4 -->\n<g id=\"edge8\" class=\"edge\">\n<title>1&#45;&#45;4</title>\n<path fill=\"none\" stroke=\"black\" d=\"M233.41,-268.77C233.41,-257.56 233.41,-244.52 233.41,-233.35\"/>\n</g>\n<!-- 11 -->\n<g id=\"node10\" class=\"node\">\n<title>11</title>\n<ellipse fill=\"none\" stroke=\"black\" cx=\"361.41\" cy=\"-116.61\" rx=\"35.21\" ry=\"26.74\"/>\n<text text-anchor=\"middle\" x=\"361.41\" y=\"-120.41\" font-family=\"Times,serif\" font-size=\"14.00\">5:6</text>\n<text text-anchor=\"middle\" x=\"361.41\" y=\"-105.41\" font-family=\"Times,serif\" font-size=\"14.00\">7 (10)</text>\n</g>\n<!-- 12 -->\n<g id=\"node11\" class=\"node\">\n<title>12</title>\n<ellipse fill=\"none\" stroke=\"black\" cx=\"450.41\" cy=\"-116.61\" rx=\"35.21\" ry=\"26.74\"/>\n<text text-anchor=\"middle\" x=\"450.41\" y=\"-120.41\" font-family=\"Times,serif\" font-size=\"14.00\">6:7</text>\n<text text-anchor=\"middle\" x=\"450.41\" y=\"-105.41\" font-family=\"Times,serif\" font-size=\"14.00\">8 (10)</text>\n</g>\n<!-- 5 -->\n<g id=\"node12\" class=\"node\">\n<title>5</title>\n<ellipse fill=\"none\" stroke=\"black\" cx=\"405.41\" cy=\"-206.35\" rx=\"35.21\" ry=\"26.74\"/>\n<text text-anchor=\"middle\" x=\"405.41\" y=\"-210.15\" font-family=\"Times,serif\" font-size=\"14.00\">5:7</text>\n<text text-anchor=\"middle\" x=\"405.41\" y=\"-195.15\" font-family=\"Times,serif\" font-size=\"14.00\">35 (0)</text>\n</g>\n<!-- 5&#45;&#45;11 -->\n<g id=\"edge9\" class=\"edge\">\n<title>5&#45;&#45;11</title>\n<path fill=\"none\" stroke=\"black\" d=\"M393.15,-180.91C387.05,-168.74 379.69,-154.07 373.6,-141.92\"/>\n</g>\n<!-- 5&#45;&#45;12 -->\n<g id=\"edge10\" class=\"edge\">\n<title>5&#45;&#45;12</title>\n<path fill=\"none\" stroke=\"black\" d=\"M417.94,-180.91C424.18,-168.74 431.71,-154.07 437.94,-141.92\"/>\n</g>\n<!-- 13 -->\n<g id=\"node13\" class=\"node\">\n<title>13</title>\n<ellipse fill=\"none\" stroke=\"black\" cx=\"539.41\" cy=\"-116.61\" rx=\"35.21\" ry=\"26.74\"/>\n<text text-anchor=\"middle\" x=\"539.41\" y=\"-120.41\" font-family=\"Times,serif\" font-size=\"14.00\">7:8</text>\n<text text-anchor=\"middle\" x=\"539.41\" y=\"-105.41\" font-family=\"Times,serif\" font-size=\"14.00\">19 (0)</text>\n</g>\n<!-- 29 -->\n<g id=\"node14\" class=\"node\">\n<title>29</title>\n<ellipse fill=\"none\" stroke=\"black\" cx=\"583.41\" cy=\"-26.87\" rx=\"30.31\" ry=\"26.74\"/>\n<text text-anchor=\"middle\" x=\"583.41\" y=\"-30.67\" font-family=\"Times,serif\" font-size=\"14.00\">8:9</text>\n<text text-anchor=\"middle\" x=\"583.41\" y=\"-15.67\" font-family=\"Times,serif\" font-size=\"14.00\">1 (0)</text>\n</g>\n<!-- 30 -->\n<g id=\"node15\" class=\"node\">\n<title>30</title>\n<ellipse fill=\"none\" stroke=\"black\" cx=\"662.41\" cy=\"-26.87\" rx=\"30.31\" ry=\"26.74\"/>\n<text text-anchor=\"middle\" x=\"662.41\" y=\"-30.67\" font-family=\"Times,serif\" font-size=\"14.00\">9:10</text>\n<text text-anchor=\"middle\" x=\"662.41\" y=\"-15.67\" font-family=\"Times,serif\" font-size=\"14.00\">7 (0)</text>\n</g>\n<!-- 14 -->\n<g id=\"node16\" class=\"node\">\n<title>14</title>\n<ellipse fill=\"none\" stroke=\"black\" cx=\"623.41\" cy=\"-116.61\" rx=\"30.31\" ry=\"26.74\"/>\n<text text-anchor=\"middle\" x=\"623.41\" y=\"-120.41\" font-family=\"Times,serif\" font-size=\"14.00\">8:10</text>\n<text text-anchor=\"middle\" x=\"623.41\" y=\"-105.41\" font-family=\"Times,serif\" font-size=\"14.00\">8 (0)</text>\n</g>\n<!-- 14&#45;&#45;29 -->\n<g id=\"edge11\" class=\"edge\">\n<title>14&#45;&#45;29</title>\n<path fill=\"none\" stroke=\"black\" d=\"M612.26,-91.17C606.72,-79 600.03,-64.33 594.49,-52.18\"/>\n</g>\n<!-- 14&#45;&#45;30 -->\n<g id=\"edge12\" class=\"edge\">\n<title>14&#45;&#45;30</title>\n<path fill=\"none\" stroke=\"black\" d=\"M634.27,-91.17C639.68,-79 646.2,-64.33 651.6,-52.18\"/>\n</g>\n<!-- 6 -->\n<g id=\"node17\" class=\"node\">\n<title>6</title>\n<ellipse fill=\"none\" stroke=\"black\" cx=\"539.41\" cy=\"-206.35\" rx=\"35.21\" ry=\"26.74\"/>\n<text text-anchor=\"middle\" x=\"539.41\" y=\"-210.15\" font-family=\"Times,serif\" font-size=\"14.00\">7:10</text>\n<text text-anchor=\"middle\" x=\"539.41\" y=\"-195.15\" font-family=\"Times,serif\" font-size=\"14.00\">27 (0)</text>\n</g>\n<!-- 6&#45;&#45;13 -->\n<g id=\"edge13\" class=\"edge\">\n<title>6&#45;&#45;13</title>\n<path fill=\"none\" stroke=\"black\" d=\"M539.41,-179.03C539.41,-167.82 539.41,-154.78 539.41,-143.61\"/>\n</g>\n<!-- 6&#45;&#45;14 -->\n<g id=\"edge14\" class=\"edge\">\n<title>6&#45;&#45;14</title>\n<path fill=\"none\" stroke=\"black\" d=\"M559.74,-184.11C573.24,-170.01 590.85,-151.62 604.12,-137.75\"/>\n</g>\n<!-- 2 -->\n<g id=\"node18\" class=\"node\">\n<title>2</title>\n<ellipse fill=\"none\" stroke=\"black\" cx=\"405.41\" cy=\"-296.09\" rx=\"35.21\" ry=\"26.74\"/>\n<text text-anchor=\"middle\" x=\"405.41\" y=\"-299.89\" font-family=\"Times,serif\" font-size=\"14.00\">5:10</text>\n<text text-anchor=\"middle\" x=\"405.41\" y=\"-284.89\" font-family=\"Times,serif\" font-size=\"14.00\">62 (0)</text>\n</g>\n<!-- 2&#45;&#45;5 -->\n<g id=\"edge15\" class=\"edge\">\n<title>2&#45;&#45;5</title>\n<path fill=\"none\" stroke=\"black\" d=\"M405.41,-268.77C405.41,-257.56 405.41,-244.52 405.41,-233.35\"/>\n</g>\n<!-- 2&#45;&#45;6 -->\n<g id=\"edge16\" class=\"edge\">\n<title>2&#45;&#45;6</title>\n<path fill=\"none\" stroke=\"black\" d=\"M431.56,-277.96C455.02,-262.6 489.28,-240.17 512.86,-224.73\"/>\n</g>\n<!-- 0 -->\n<g id=\"node19\" class=\"node\">\n<title>0</title>\n<ellipse fill=\"none\" stroke=\"black\" cx=\"277.41\" cy=\"-385.83\" rx=\"35.21\" ry=\"26.74\"/>\n<text text-anchor=\"middle\" x=\"277.41\" y=\"-389.63\" font-family=\"Times,serif\" font-size=\"14.00\">0:10</text>\n<text text-anchor=\"middle\" x=\"277.41\" y=\"-374.63\" font-family=\"Times,serif\" font-size=\"14.00\">88 (0)</text>\n</g>\n<!-- 0&#45;&#45;1 -->\n<g id=\"edge17\" class=\"edge\">\n<title>0&#45;&#45;1</title>\n<path fill=\"none\" stroke=\"black\" d=\"M265.15,-360.39C259.05,-348.22 251.69,-333.55 245.6,-321.4\"/>\n</g>\n<!-- 0&#45;&#45;2 -->\n<g id=\"edge18\" class=\"edge\">\n<title>0&#45;&#45;2</title>\n<path fill=\"none\" stroke=\"black\" d=\"M303,-367.29C325.18,-352.08 357.12,-330.19 379.42,-314.91\"/>\n</g>\n</g>\n</svg>\n",
      "text/plain": [
       "<graphviz.dot.Graph at 0x110614110>"
      ]
     },
     "execution_count": 15,
     "metadata": {},
     "output_type": "execute_result"
    }
   ],
   "source": [
    "# O(log(n)) range update\n",
    "\n",
    "class Node:\n",
    "  def __init__(self, val):\n",
    "    self.value = val\n",
    "    self.lazy = 0\n",
    "  def __str__(self):\n",
    "    return f'{self.value} ({self.lazy})'\n",
    "\n",
    "\n",
    "def preprocess(A, tree, node=0, st=0, ed=len(A)):\n",
    "  assert st < ed\n",
    "  if st + 1 == ed:\n",
    "    tree[node] = Node(A[st])\n",
    "  else:\n",
    "    l = preprocess(A, tree, 2 * node + 1,     st,             (st + ed) // 2)\n",
    "    r = preprocess(A, tree, 2 * node + 2, (st + ed) // 2, ed)\n",
    "    tree[node] = Node(l.value + r.value)\n",
    "  return tree[node]\n",
    "\n",
    "\n",
    "def update(tree, i, j, val, node=0, st=0, ed=len(A)):\n",
    "  if tree[node].lazy != 0: # lazy node, update it\n",
    "    tree[node].value += (ed - st) * tree[node].lazy\n",
    "    if st + 1 < ed:\n",
    "      tree[node * 2 + 1].lazy += tree[node].lazy\n",
    "      tree[node * 2 + 2].lazy += tree[node].lazy\n",
    "    tree[node].lazy = 0 # not lazy anymore\n",
    "  if i >= ed or j <= st:\n",
    "    pass\n",
    "  elif st >= i and ed <= j:\n",
    "    tree[node].value += (ed - st) * val\n",
    "    if st + 1 < ed:\n",
    "      tree[node * 2 + 1].lazy += val\n",
    "      tree[node * 2 + 2].lazy += val\n",
    "  else:\n",
    "    update(tree, i, j, val, 2 * node + 1, st, (st + ed) // 2)\n",
    "    update(tree, i, j, val, 2 * node + 2, (st + ed) // 2, ed)\n",
    "    tree[node].value = tree[2 * node + 1].value + tree[2 * node + 2].value\n",
    "\n",
    "\n",
    "def query(tree, i, j, node=0, st=0, ed=len(A)):\n",
    "  if tree[node].lazy != 0: # lazy node, update it\n",
    "    tree[node].value += (ed - st) * tree[node].lazy\n",
    "    if st + 1 < ed:\n",
    "      tree[node * 2 + 1].lazy += tree[node].lazy\n",
    "      tree[node * 2 + 2].lazy += tree[node].lazy\n",
    "    tree[node].lazy = 0 # not lazy anymore\n",
    "  if i >= ed or j <= st:\n",
    "    return 0\n",
    "  elif st >= i and ed <= j:\n",
    "    return tree[node].value\n",
    "  else:\n",
    "    l = query(tree, i, j, 2 * node + 1, st, (st + ed) // 2)\n",
    "    r = query(tree, i, j, 2 * node + 2, (st + ed) // 2, ed)\n",
    "    return l + r\n",
    "\n",
    "\n",
    "tree = {}\n",
    "preprocess(A, tree)\n",
    "update(tree, 4, 8, 10)\n",
    "plot(tree)"
   ]
  },
  {
   "cell_type": "code",
   "execution_count": 16,
   "metadata": {},
   "outputs": [
    {
     "name": "stdout",
     "output_type": "stream",
     "text": [
      "55 71\n"
     ]
    },
    {
     "data": {
      "image/svg+xml": "<?xml version=\"1.0\" encoding=\"UTF-8\" standalone=\"no\"?>\n<!DOCTYPE svg PUBLIC \"-//W3C//DTD SVG 1.1//EN\"\n \"http://www.w3.org/Graphics/SVG/1.1/DTD/svg11.dtd\">\n<!-- Generated by graphviz version 2.49.2 (20211016.1639)\n -->\n<!-- Pages: 1 -->\n<svg width=\"432pt\" height=\"259pt\"\n viewBox=\"0.00 0.00 432.00 259.33\" xmlns=\"http://www.w3.org/2000/svg\" xmlns:xlink=\"http://www.w3.org/1999/xlink\">\n<g id=\"graph0\" class=\"graph\" transform=\"scale(0.62 0.62) rotate(0) translate(4 416.7)\">\n<polygon fill=\"white\" stroke=\"transparent\" points=\"-4,4 -4,-416.7 696.81,-416.7 696.81,4 -4,4\"/>\n<!-- 7 -->\n<g id=\"node1\" class=\"node\">\n<title>7</title>\n<ellipse fill=\"none\" stroke=\"black\" cx=\"30.41\" cy=\"-116.61\" rx=\"30.31\" ry=\"26.74\"/>\n<text text-anchor=\"middle\" x=\"30.41\" y=\"-120.41\" font-family=\"Times,serif\" font-size=\"14.00\">0:1</text>\n<text text-anchor=\"middle\" x=\"30.41\" y=\"-105.41\" font-family=\"Times,serif\" font-size=\"14.00\">2 (0)</text>\n</g>\n<!-- 8 -->\n<g id=\"node2\" class=\"node\">\n<title>8</title>\n<ellipse fill=\"none\" stroke=\"black\" cx=\"109.41\" cy=\"-116.61\" rx=\"30.31\" ry=\"26.74\"/>\n<text text-anchor=\"middle\" x=\"109.41\" y=\"-120.41\" font-family=\"Times,serif\" font-size=\"14.00\">1:2</text>\n<text text-anchor=\"middle\" x=\"109.41\" y=\"-105.41\" font-family=\"Times,serif\" font-size=\"14.00\">4 (0)</text>\n</g>\n<!-- 3 -->\n<g id=\"node3\" class=\"node\">\n<title>3</title>\n<ellipse fill=\"none\" stroke=\"black\" cx=\"109.41\" cy=\"-206.35\" rx=\"30.31\" ry=\"26.74\"/>\n<text text-anchor=\"middle\" x=\"109.41\" y=\"-210.15\" font-family=\"Times,serif\" font-size=\"14.00\">0:2</text>\n<text text-anchor=\"middle\" x=\"109.41\" y=\"-195.15\" font-family=\"Times,serif\" font-size=\"14.00\">6 (0)</text>\n</g>\n<!-- 3&#45;&#45;7 -->\n<g id=\"edge1\" class=\"edge\">\n<title>3&#45;&#45;7</title>\n<path fill=\"none\" stroke=\"black\" d=\"M90.68,-184.56C78.09,-170.57 61.56,-152.21 48.99,-138.25\"/>\n</g>\n<!-- 3&#45;&#45;8 -->\n<g id=\"edge2\" class=\"edge\">\n<title>3&#45;&#45;8</title>\n<path fill=\"none\" stroke=\"black\" d=\"M109.41,-179.03C109.41,-167.82 109.41,-154.78 109.41,-143.61\"/>\n</g>\n<!-- 9 -->\n<g id=\"node4\" class=\"node\">\n<title>9</title>\n<ellipse fill=\"none\" stroke=\"black\" cx=\"188.41\" cy=\"-116.61\" rx=\"30.31\" ry=\"26.74\"/>\n<text text-anchor=\"middle\" x=\"188.41\" y=\"-120.41\" font-family=\"Times,serif\" font-size=\"14.00\">2:3</text>\n<text text-anchor=\"middle\" x=\"188.41\" y=\"-105.41\" font-family=\"Times,serif\" font-size=\"14.00\">3 (0)</text>\n</g>\n<!-- 21 -->\n<g id=\"node5\" class=\"node\">\n<title>21</title>\n<ellipse fill=\"none\" stroke=\"black\" cx=\"230.41\" cy=\"-26.87\" rx=\"30.31\" ry=\"26.74\"/>\n<text text-anchor=\"middle\" x=\"230.41\" y=\"-30.67\" font-family=\"Times,serif\" font-size=\"14.00\">3:4</text>\n<text text-anchor=\"middle\" x=\"230.41\" y=\"-15.67\" font-family=\"Times,serif\" font-size=\"14.00\">1 (0)</text>\n</g>\n<!-- 22 -->\n<g id=\"node6\" class=\"node\">\n<title>22</title>\n<ellipse fill=\"none\" stroke=\"black\" cx=\"314.41\" cy=\"-26.87\" rx=\"35.21\" ry=\"26.74\"/>\n<text text-anchor=\"middle\" x=\"314.41\" y=\"-30.67\" font-family=\"Times,serif\" font-size=\"14.00\">4:5</text>\n<text text-anchor=\"middle\" x=\"314.41\" y=\"-15.67\" font-family=\"Times,serif\" font-size=\"14.00\">16 (0)</text>\n</g>\n<!-- 10 -->\n<g id=\"node7\" class=\"node\">\n<title>10</title>\n<ellipse fill=\"none\" stroke=\"black\" cx=\"272.41\" cy=\"-116.61\" rx=\"35.21\" ry=\"26.74\"/>\n<text text-anchor=\"middle\" x=\"272.41\" y=\"-120.41\" font-family=\"Times,serif\" font-size=\"14.00\">3:5</text>\n<text text-anchor=\"middle\" x=\"272.41\" y=\"-105.41\" font-family=\"Times,serif\" font-size=\"14.00\">17 (0)</text>\n</g>\n<!-- 10&#45;&#45;21 -->\n<g id=\"edge3\" class=\"edge\">\n<title>10&#45;&#45;21</title>\n<path fill=\"none\" stroke=\"black\" d=\"M260.71,-91.17C254.83,-78.9 247.74,-64.09 241.9,-51.88\"/>\n</g>\n<!-- 10&#45;&#45;22 -->\n<g id=\"edge4\" class=\"edge\">\n<title>10&#45;&#45;22</title>\n<path fill=\"none\" stroke=\"black\" d=\"M284.1,-91.17C289.88,-79.1 296.84,-64.58 302.62,-52.48\"/>\n</g>\n<!-- 4 -->\n<g id=\"node8\" class=\"node\">\n<title>4</title>\n<ellipse fill=\"none\" stroke=\"black\" cx=\"233.41\" cy=\"-206.35\" rx=\"35.21\" ry=\"26.74\"/>\n<text text-anchor=\"middle\" x=\"233.41\" y=\"-210.15\" font-family=\"Times,serif\" font-size=\"14.00\">2:5</text>\n<text text-anchor=\"middle\" x=\"233.41\" y=\"-195.15\" font-family=\"Times,serif\" font-size=\"14.00\">20 (0)</text>\n</g>\n<!-- 4&#45;&#45;9 -->\n<g id=\"edge5\" class=\"edge\">\n<title>4&#45;&#45;9</title>\n<path fill=\"none\" stroke=\"black\" d=\"M220.87,-180.91C214.53,-168.54 206.85,-153.58 200.56,-141.31\"/>\n</g>\n<!-- 4&#45;&#45;10 -->\n<g id=\"edge6\" class=\"edge\">\n<title>4&#45;&#45;10</title>\n<path fill=\"none\" stroke=\"black\" d=\"M244.48,-180.44C249.79,-168.49 256.14,-154.2 261.44,-142.28\"/>\n</g>\n<!-- 1 -->\n<g id=\"node9\" class=\"node\">\n<title>1</title>\n<ellipse fill=\"none\" stroke=\"black\" cx=\"233.41\" cy=\"-296.09\" rx=\"35.21\" ry=\"26.74\"/>\n<text text-anchor=\"middle\" x=\"233.41\" y=\"-299.89\" font-family=\"Times,serif\" font-size=\"14.00\">0:5</text>\n<text text-anchor=\"middle\" x=\"233.41\" y=\"-284.89\" font-family=\"Times,serif\" font-size=\"14.00\">26 (0)</text>\n</g>\n<!-- 1&#45;&#45;3 -->\n<g id=\"edge7\" class=\"edge\">\n<title>1&#45;&#45;3</title>\n<path fill=\"none\" stroke=\"black\" d=\"M208.01,-277.12C185.91,-261.48 154.13,-238.99 132.67,-223.81\"/>\n</g>\n<!-- 1&#45;&#45;4 -->\n<g id=\"edge8\" class=\"edge\">\n<title>1&#45;&#45;4</title>\n<path fill=\"none\" stroke=\"black\" d=\"M233.41,-268.77C233.41,-257.56 233.41,-244.52 233.41,-233.35\"/>\n</g>\n<!-- 11 -->\n<g id=\"node10\" class=\"node\">\n<title>11</title>\n<ellipse fill=\"none\" stroke=\"black\" cx=\"361.41\" cy=\"-116.61\" rx=\"35.21\" ry=\"26.74\"/>\n<text text-anchor=\"middle\" x=\"361.41\" y=\"-120.41\" font-family=\"Times,serif\" font-size=\"14.00\">5:6</text>\n<text text-anchor=\"middle\" x=\"361.41\" y=\"-105.41\" font-family=\"Times,serif\" font-size=\"14.00\">7 (10)</text>\n</g>\n<!-- 12 -->\n<g id=\"node11\" class=\"node\">\n<title>12</title>\n<ellipse fill=\"none\" stroke=\"black\" cx=\"450.41\" cy=\"-116.61\" rx=\"35.21\" ry=\"26.74\"/>\n<text text-anchor=\"middle\" x=\"450.41\" y=\"-120.41\" font-family=\"Times,serif\" font-size=\"14.00\">6:7</text>\n<text text-anchor=\"middle\" x=\"450.41\" y=\"-105.41\" font-family=\"Times,serif\" font-size=\"14.00\">8 (10)</text>\n</g>\n<!-- 5 -->\n<g id=\"node12\" class=\"node\">\n<title>5</title>\n<ellipse fill=\"none\" stroke=\"black\" cx=\"405.41\" cy=\"-206.35\" rx=\"35.21\" ry=\"26.74\"/>\n<text text-anchor=\"middle\" x=\"405.41\" y=\"-210.15\" font-family=\"Times,serif\" font-size=\"14.00\">5:7</text>\n<text text-anchor=\"middle\" x=\"405.41\" y=\"-195.15\" font-family=\"Times,serif\" font-size=\"14.00\">35 (0)</text>\n</g>\n<!-- 5&#45;&#45;11 -->\n<g id=\"edge9\" class=\"edge\">\n<title>5&#45;&#45;11</title>\n<path fill=\"none\" stroke=\"black\" d=\"M393.15,-180.91C387.05,-168.74 379.69,-154.07 373.6,-141.92\"/>\n</g>\n<!-- 5&#45;&#45;12 -->\n<g id=\"edge10\" class=\"edge\">\n<title>5&#45;&#45;12</title>\n<path fill=\"none\" stroke=\"black\" d=\"M417.94,-180.91C424.18,-168.74 431.71,-154.07 437.94,-141.92\"/>\n</g>\n<!-- 13 -->\n<g id=\"node13\" class=\"node\">\n<title>13</title>\n<ellipse fill=\"none\" stroke=\"black\" cx=\"539.41\" cy=\"-116.61\" rx=\"35.21\" ry=\"26.74\"/>\n<text text-anchor=\"middle\" x=\"539.41\" y=\"-120.41\" font-family=\"Times,serif\" font-size=\"14.00\">7:8</text>\n<text text-anchor=\"middle\" x=\"539.41\" y=\"-105.41\" font-family=\"Times,serif\" font-size=\"14.00\">19 (0)</text>\n</g>\n<!-- 29 -->\n<g id=\"node14\" class=\"node\">\n<title>29</title>\n<ellipse fill=\"none\" stroke=\"black\" cx=\"583.41\" cy=\"-26.87\" rx=\"30.31\" ry=\"26.74\"/>\n<text text-anchor=\"middle\" x=\"583.41\" y=\"-30.67\" font-family=\"Times,serif\" font-size=\"14.00\">8:9</text>\n<text text-anchor=\"middle\" x=\"583.41\" y=\"-15.67\" font-family=\"Times,serif\" font-size=\"14.00\">1 (0)</text>\n</g>\n<!-- 30 -->\n<g id=\"node15\" class=\"node\">\n<title>30</title>\n<ellipse fill=\"none\" stroke=\"black\" cx=\"662.41\" cy=\"-26.87\" rx=\"30.31\" ry=\"26.74\"/>\n<text text-anchor=\"middle\" x=\"662.41\" y=\"-30.67\" font-family=\"Times,serif\" font-size=\"14.00\">9:10</text>\n<text text-anchor=\"middle\" x=\"662.41\" y=\"-15.67\" font-family=\"Times,serif\" font-size=\"14.00\">7 (0)</text>\n</g>\n<!-- 14 -->\n<g id=\"node16\" class=\"node\">\n<title>14</title>\n<ellipse fill=\"none\" stroke=\"black\" cx=\"623.41\" cy=\"-116.61\" rx=\"30.31\" ry=\"26.74\"/>\n<text text-anchor=\"middle\" x=\"623.41\" y=\"-120.41\" font-family=\"Times,serif\" font-size=\"14.00\">8:10</text>\n<text text-anchor=\"middle\" x=\"623.41\" y=\"-105.41\" font-family=\"Times,serif\" font-size=\"14.00\">8 (0)</text>\n</g>\n<!-- 14&#45;&#45;29 -->\n<g id=\"edge11\" class=\"edge\">\n<title>14&#45;&#45;29</title>\n<path fill=\"none\" stroke=\"black\" d=\"M612.26,-91.17C606.72,-79 600.03,-64.33 594.49,-52.18\"/>\n</g>\n<!-- 14&#45;&#45;30 -->\n<g id=\"edge12\" class=\"edge\">\n<title>14&#45;&#45;30</title>\n<path fill=\"none\" stroke=\"black\" d=\"M634.27,-91.17C639.68,-79 646.2,-64.33 651.6,-52.18\"/>\n</g>\n<!-- 6 -->\n<g id=\"node17\" class=\"node\">\n<title>6</title>\n<ellipse fill=\"none\" stroke=\"black\" cx=\"539.41\" cy=\"-206.35\" rx=\"35.21\" ry=\"26.74\"/>\n<text text-anchor=\"middle\" x=\"539.41\" y=\"-210.15\" font-family=\"Times,serif\" font-size=\"14.00\">7:10</text>\n<text text-anchor=\"middle\" x=\"539.41\" y=\"-195.15\" font-family=\"Times,serif\" font-size=\"14.00\">27 (0)</text>\n</g>\n<!-- 6&#45;&#45;13 -->\n<g id=\"edge13\" class=\"edge\">\n<title>6&#45;&#45;13</title>\n<path fill=\"none\" stroke=\"black\" d=\"M539.41,-179.03C539.41,-167.82 539.41,-154.78 539.41,-143.61\"/>\n</g>\n<!-- 6&#45;&#45;14 -->\n<g id=\"edge14\" class=\"edge\">\n<title>6&#45;&#45;14</title>\n<path fill=\"none\" stroke=\"black\" d=\"M559.74,-184.11C573.24,-170.01 590.85,-151.62 604.12,-137.75\"/>\n</g>\n<!-- 2 -->\n<g id=\"node18\" class=\"node\">\n<title>2</title>\n<ellipse fill=\"none\" stroke=\"black\" cx=\"405.41\" cy=\"-296.09\" rx=\"35.21\" ry=\"26.74\"/>\n<text text-anchor=\"middle\" x=\"405.41\" y=\"-299.89\" font-family=\"Times,serif\" font-size=\"14.00\">5:10</text>\n<text text-anchor=\"middle\" x=\"405.41\" y=\"-284.89\" font-family=\"Times,serif\" font-size=\"14.00\">62 (0)</text>\n</g>\n<!-- 2&#45;&#45;5 -->\n<g id=\"edge15\" class=\"edge\">\n<title>2&#45;&#45;5</title>\n<path fill=\"none\" stroke=\"black\" d=\"M405.41,-268.77C405.41,-257.56 405.41,-244.52 405.41,-233.35\"/>\n</g>\n<!-- 2&#45;&#45;6 -->\n<g id=\"edge16\" class=\"edge\">\n<title>2&#45;&#45;6</title>\n<path fill=\"none\" stroke=\"black\" d=\"M431.56,-277.96C455.02,-262.6 489.28,-240.17 512.86,-224.73\"/>\n</g>\n<!-- 0 -->\n<g id=\"node19\" class=\"node\">\n<title>0</title>\n<ellipse fill=\"none\" stroke=\"black\" cx=\"277.41\" cy=\"-385.83\" rx=\"35.21\" ry=\"26.74\"/>\n<text text-anchor=\"middle\" x=\"277.41\" y=\"-389.63\" font-family=\"Times,serif\" font-size=\"14.00\">0:10</text>\n<text text-anchor=\"middle\" x=\"277.41\" y=\"-374.63\" font-family=\"Times,serif\" font-size=\"14.00\">88 (0)</text>\n</g>\n<!-- 0&#45;&#45;1 -->\n<g id=\"edge17\" class=\"edge\">\n<title>0&#45;&#45;1</title>\n<path fill=\"none\" stroke=\"black\" d=\"M265.15,-360.39C259.05,-348.22 251.69,-333.55 245.6,-321.4\"/>\n</g>\n<!-- 0&#45;&#45;2 -->\n<g id=\"edge18\" class=\"edge\">\n<title>0&#45;&#45;2</title>\n<path fill=\"none\" stroke=\"black\" d=\"M303,-367.29C325.18,-352.08 357.12,-330.19 379.42,-314.91\"/>\n</g>\n</g>\n</svg>\n",
      "text/plain": [
       "<graphviz.dot.Graph at 0x110625a50>"
      ]
     },
     "execution_count": 16,
     "metadata": {},
     "output_type": "execute_result"
    }
   ],
   "source": [
    "print(query(tree, 2, 7), query(tree, 4, 9)) # 25 + 30, 31 + 40\n",
    "plot(tree)"
   ]
  },
  {
   "cell_type": "markdown",
   "metadata": {},
   "source": [
    "## Dynamic segment trees\n",
    "\n",
    "Instead of using an array, we can also use the standard binary search tree data structure\n",
    "to implement segment trees. If the tree is sparse, this solution is more efficient.\n",
    "And it's easier to code and debug."
   ]
  },
  {
   "cell_type": "code",
   "execution_count": 32,
   "metadata": {},
   "outputs": [
    {
     "name": "stdout",
     "output_type": "stream",
     "text": [
      "25 31\n"
     ]
    },
    {
     "data": {
      "image/svg+xml": "<?xml version=\"1.0\" encoding=\"UTF-8\" standalone=\"no\"?>\n<!DOCTYPE svg PUBLIC \"-//W3C//DTD SVG 1.1//EN\"\n \"http://www.w3.org/Graphics/SVG/1.1/DTD/svg11.dtd\">\n<!-- Generated by graphviz version 2.49.2 (20211016.1639)\n -->\n<!-- Pages: 1 -->\n<svg width=\"416pt\" height=\"288pt\"\n viewBox=\"0.00 0.00 415.53 288.00\" xmlns=\"http://www.w3.org/2000/svg\" xmlns:xlink=\"http://www.w3.org/1999/xlink\">\n<g id=\"graph0\" class=\"graph\" transform=\"scale(0.68 0.68) rotate(0) translate(4 416.7)\">\n<polygon fill=\"white\" stroke=\"transparent\" points=\"-4,4 -4,-416.7 602.99,-416.7 602.99,4 -4,4\"/>\n<!-- 0_10 -->\n<g id=\"node1\" class=\"node\">\n<title>0_10</title>\n<ellipse fill=\"none\" stroke=\"black\" cx=\"278\" cy=\"-385.83\" rx=\"28.98\" ry=\"26.74\"/>\n<text text-anchor=\"middle\" x=\"278\" y=\"-389.63\" font-family=\"Times,serif\" font-size=\"14.00\">0:10</text>\n<text text-anchor=\"middle\" x=\"278\" y=\"-374.63\" font-family=\"Times,serif\" font-size=\"14.00\">48</text>\n</g>\n<!-- 0_5 -->\n<g id=\"node2\" class=\"node\">\n<title>0_5</title>\n<ellipse fill=\"none\" stroke=\"black\" cx=\"206\" cy=\"-296.09\" rx=\"27\" ry=\"26.74\"/>\n<text text-anchor=\"middle\" x=\"206\" y=\"-299.89\" font-family=\"Times,serif\" font-size=\"14.00\">0:5</text>\n<text text-anchor=\"middle\" x=\"206\" y=\"-284.89\" font-family=\"Times,serif\" font-size=\"14.00\">16</text>\n</g>\n<!-- 0_10&#45;&#45;0_5 -->\n<g id=\"edge1\" class=\"edge\">\n<title>0_10&#45;&#45;0_5</title>\n<path fill=\"none\" stroke=\"black\" d=\"M260.94,-364.04C249.38,-349.95 234.17,-331.42 222.69,-317.43\"/>\n</g>\n<!-- 5_10 -->\n<g id=\"node11\" class=\"node\">\n<title>5_10</title>\n<ellipse fill=\"none\" stroke=\"black\" cx=\"350\" cy=\"-296.09\" rx=\"28.98\" ry=\"26.74\"/>\n<text text-anchor=\"middle\" x=\"350\" y=\"-299.89\" font-family=\"Times,serif\" font-size=\"14.00\">5:10</text>\n<text text-anchor=\"middle\" x=\"350\" y=\"-284.89\" font-family=\"Times,serif\" font-size=\"14.00\">32</text>\n</g>\n<!-- 0_10&#45;&#45;5_10 -->\n<g id=\"edge10\" class=\"edge\">\n<title>0_10&#45;&#45;5_10</title>\n<path fill=\"none\" stroke=\"black\" d=\"M295.06,-364.04C306.46,-350.15 321.39,-331.96 332.81,-318.04\"/>\n</g>\n<!-- 0_2 -->\n<g id=\"node3\" class=\"node\">\n<title>0_2</title>\n<ellipse fill=\"none\" stroke=\"black\" cx=\"99\" cy=\"-206.35\" rx=\"27\" ry=\"26.74\"/>\n<text text-anchor=\"middle\" x=\"99\" y=\"-210.15\" font-family=\"Times,serif\" font-size=\"14.00\">0:2</text>\n<text text-anchor=\"middle\" x=\"99\" y=\"-195.15\" font-family=\"Times,serif\" font-size=\"14.00\">6</text>\n</g>\n<!-- 0_5&#45;&#45;0_2 -->\n<g id=\"edge2\" class=\"edge\">\n<title>0_5&#45;&#45;0_2</title>\n<path fill=\"none\" stroke=\"black\" d=\"M185.62,-278.38C166.7,-262.87 138.68,-239.88 119.67,-224.3\"/>\n</g>\n<!-- 2_5 -->\n<g id=\"node6\" class=\"node\">\n<title>2_5</title>\n<ellipse fill=\"none\" stroke=\"black\" cx=\"206\" cy=\"-206.35\" rx=\"27\" ry=\"26.74\"/>\n<text text-anchor=\"middle\" x=\"206\" y=\"-210.15\" font-family=\"Times,serif\" font-size=\"14.00\">2:5</text>\n<text text-anchor=\"middle\" x=\"206\" y=\"-195.15\" font-family=\"Times,serif\" font-size=\"14.00\">10</text>\n</g>\n<!-- 0_5&#45;&#45;2_5 -->\n<g id=\"edge5\" class=\"edge\">\n<title>0_5&#45;&#45;2_5</title>\n<path fill=\"none\" stroke=\"black\" d=\"M206,-268.77C206,-257.56 206,-244.52 206,-233.35\"/>\n</g>\n<!-- 0_1 -->\n<g id=\"node4\" class=\"node\">\n<title>0_1</title>\n<ellipse fill=\"none\" stroke=\"black\" cx=\"27\" cy=\"-116.61\" rx=\"27\" ry=\"26.74\"/>\n<text text-anchor=\"middle\" x=\"27\" y=\"-120.41\" font-family=\"Times,serif\" font-size=\"14.00\">0:1</text>\n<text text-anchor=\"middle\" x=\"27\" y=\"-105.41\" font-family=\"Times,serif\" font-size=\"14.00\">2</text>\n</g>\n<!-- 0_2&#45;&#45;0_1 -->\n<g id=\"edge3\" class=\"edge\">\n<title>0_2&#45;&#45;0_1</title>\n<path fill=\"none\" stroke=\"black\" d=\"M82.3,-185C70.67,-170.83 55.22,-152 43.61,-137.85\"/>\n</g>\n<!-- 1_2 -->\n<g id=\"node5\" class=\"node\">\n<title>1_2</title>\n<ellipse fill=\"none\" stroke=\"black\" cx=\"99\" cy=\"-116.61\" rx=\"27\" ry=\"26.74\"/>\n<text text-anchor=\"middle\" x=\"99\" y=\"-120.41\" font-family=\"Times,serif\" font-size=\"14.00\">1:2</text>\n<text text-anchor=\"middle\" x=\"99\" y=\"-105.41\" font-family=\"Times,serif\" font-size=\"14.00\">4</text>\n</g>\n<!-- 0_2&#45;&#45;1_2 -->\n<g id=\"edge4\" class=\"edge\">\n<title>0_2&#45;&#45;1_2</title>\n<path fill=\"none\" stroke=\"black\" d=\"M99,-179.03C99,-167.82 99,-154.78 99,-143.61\"/>\n</g>\n<!-- 2_3 -->\n<g id=\"node7\" class=\"node\">\n<title>2_3</title>\n<ellipse fill=\"none\" stroke=\"black\" cx=\"171\" cy=\"-116.61\" rx=\"27\" ry=\"26.74\"/>\n<text text-anchor=\"middle\" x=\"171\" y=\"-120.41\" font-family=\"Times,serif\" font-size=\"14.00\">2:3</text>\n<text text-anchor=\"middle\" x=\"171\" y=\"-105.41\" font-family=\"Times,serif\" font-size=\"14.00\">3</text>\n</g>\n<!-- 2_5&#45;&#45;2_3 -->\n<g id=\"edge6\" class=\"edge\">\n<title>2_5&#45;&#45;2_3</title>\n<path fill=\"none\" stroke=\"black\" d=\"M196.25,-180.91C191.4,-168.74 185.54,-154.07 180.7,-141.92\"/>\n</g>\n<!-- 3_5 -->\n<g id=\"node8\" class=\"node\">\n<title>3_5</title>\n<ellipse fill=\"none\" stroke=\"black\" cx=\"243\" cy=\"-116.61\" rx=\"27\" ry=\"26.74\"/>\n<text text-anchor=\"middle\" x=\"243\" y=\"-120.41\" font-family=\"Times,serif\" font-size=\"14.00\">3:5</text>\n<text text-anchor=\"middle\" x=\"243\" y=\"-105.41\" font-family=\"Times,serif\" font-size=\"14.00\">7</text>\n</g>\n<!-- 2_5&#45;&#45;3_5 -->\n<g id=\"edge7\" class=\"edge\">\n<title>2_5&#45;&#45;3_5</title>\n<path fill=\"none\" stroke=\"black\" d=\"M216.11,-181.37C221.33,-168.99 227.68,-153.93 232.9,-141.56\"/>\n</g>\n<!-- 3_4 -->\n<g id=\"node9\" class=\"node\">\n<title>3_4</title>\n<ellipse fill=\"none\" stroke=\"black\" cx=\"207\" cy=\"-26.87\" rx=\"27\" ry=\"26.74\"/>\n<text text-anchor=\"middle\" x=\"207\" y=\"-30.67\" font-family=\"Times,serif\" font-size=\"14.00\">3:4</text>\n<text text-anchor=\"middle\" x=\"207\" y=\"-15.67\" font-family=\"Times,serif\" font-size=\"14.00\">1</text>\n</g>\n<!-- 3_5&#45;&#45;3_4 -->\n<g id=\"edge8\" class=\"edge\">\n<title>3_5&#45;&#45;3_4</title>\n<path fill=\"none\" stroke=\"black\" d=\"M232.97,-91.17C227.98,-79 221.96,-64.33 216.97,-52.18\"/>\n</g>\n<!-- 4_5 -->\n<g id=\"node10\" class=\"node\">\n<title>4_5</title>\n<ellipse fill=\"none\" stroke=\"black\" cx=\"279\" cy=\"-26.87\" rx=\"27\" ry=\"26.74\"/>\n<text text-anchor=\"middle\" x=\"279\" y=\"-30.67\" font-family=\"Times,serif\" font-size=\"14.00\">4:5</text>\n<text text-anchor=\"middle\" x=\"279\" y=\"-15.67\" font-family=\"Times,serif\" font-size=\"14.00\">6</text>\n</g>\n<!-- 3_5&#45;&#45;4_5 -->\n<g id=\"edge9\" class=\"edge\">\n<title>3_5&#45;&#45;4_5</title>\n<path fill=\"none\" stroke=\"black\" d=\"M253.03,-91.17C258.02,-79 264.04,-64.33 269.03,-52.18\"/>\n</g>\n<!-- 5_7 -->\n<g id=\"node12\" class=\"node\">\n<title>5_7</title>\n<ellipse fill=\"none\" stroke=\"black\" cx=\"350\" cy=\"-206.35\" rx=\"27\" ry=\"26.74\"/>\n<text text-anchor=\"middle\" x=\"350\" y=\"-210.15\" font-family=\"Times,serif\" font-size=\"14.00\">5:7</text>\n<text text-anchor=\"middle\" x=\"350\" y=\"-195.15\" font-family=\"Times,serif\" font-size=\"14.00\">15</text>\n</g>\n<!-- 5_10&#45;&#45;5_7 -->\n<g id=\"edge11\" class=\"edge\">\n<title>5_10&#45;&#45;5_7</title>\n<path fill=\"none\" stroke=\"black\" d=\"M350,-268.77C350,-257.56 350,-244.52 350,-233.35\"/>\n</g>\n<!-- 7_10 -->\n<g id=\"node15\" class=\"node\">\n<title>7_10</title>\n<ellipse fill=\"none\" stroke=\"black\" cx=\"459\" cy=\"-206.35\" rx=\"28.98\" ry=\"26.74\"/>\n<text text-anchor=\"middle\" x=\"459\" y=\"-210.15\" font-family=\"Times,serif\" font-size=\"14.00\">7:10</text>\n<text text-anchor=\"middle\" x=\"459\" y=\"-195.15\" font-family=\"Times,serif\" font-size=\"14.00\">17</text>\n</g>\n<!-- 5_10&#45;&#45;7_10 -->\n<g id=\"edge14\" class=\"edge\">\n<title>5_10&#45;&#45;7_10</title>\n<path fill=\"none\" stroke=\"black\" d=\"M371.53,-277.76C390.64,-262.37 418.41,-240.02 437.51,-224.65\"/>\n</g>\n<!-- 5_6 -->\n<g id=\"node13\" class=\"node\">\n<title>5_6</title>\n<ellipse fill=\"none\" stroke=\"black\" cx=\"315\" cy=\"-116.61\" rx=\"27\" ry=\"26.74\"/>\n<text text-anchor=\"middle\" x=\"315\" y=\"-120.41\" font-family=\"Times,serif\" font-size=\"14.00\">5:6</text>\n<text text-anchor=\"middle\" x=\"315\" y=\"-105.41\" font-family=\"Times,serif\" font-size=\"14.00\">7</text>\n</g>\n<!-- 5_7&#45;&#45;5_6 -->\n<g id=\"edge12\" class=\"edge\">\n<title>5_7&#45;&#45;5_6</title>\n<path fill=\"none\" stroke=\"black\" d=\"M340.25,-180.91C335.4,-168.74 329.54,-154.07 324.7,-141.92\"/>\n</g>\n<!-- 6_7 -->\n<g id=\"node14\" class=\"node\">\n<title>6_7</title>\n<ellipse fill=\"none\" stroke=\"black\" cx=\"387\" cy=\"-116.61\" rx=\"27\" ry=\"26.74\"/>\n<text text-anchor=\"middle\" x=\"387\" y=\"-120.41\" font-family=\"Times,serif\" font-size=\"14.00\">6:7</text>\n<text text-anchor=\"middle\" x=\"387\" y=\"-105.41\" font-family=\"Times,serif\" font-size=\"14.00\">8</text>\n</g>\n<!-- 5_7&#45;&#45;6_7 -->\n<g id=\"edge13\" class=\"edge\">\n<title>5_7&#45;&#45;6_7</title>\n<path fill=\"none\" stroke=\"black\" d=\"M360.11,-181.37C365.33,-168.99 371.68,-153.93 376.9,-141.56\"/>\n</g>\n<!-- 7_8 -->\n<g id=\"node16\" class=\"node\">\n<title>7_8</title>\n<ellipse fill=\"none\" stroke=\"black\" cx=\"459\" cy=\"-116.61\" rx=\"27\" ry=\"26.74\"/>\n<text text-anchor=\"middle\" x=\"459\" y=\"-120.41\" font-family=\"Times,serif\" font-size=\"14.00\">7:8</text>\n<text text-anchor=\"middle\" x=\"459\" y=\"-105.41\" font-family=\"Times,serif\" font-size=\"14.00\">9</text>\n</g>\n<!-- 7_10&#45;&#45;7_8 -->\n<g id=\"edge15\" class=\"edge\">\n<title>7_10&#45;&#45;7_8</title>\n<path fill=\"none\" stroke=\"black\" d=\"M459,-179.03C459,-167.82 459,-154.78 459,-143.61\"/>\n</g>\n<!-- 8_10 -->\n<g id=\"node17\" class=\"node\">\n<title>8_10</title>\n<ellipse fill=\"none\" stroke=\"black\" cx=\"533\" cy=\"-116.61\" rx=\"28.98\" ry=\"26.74\"/>\n<text text-anchor=\"middle\" x=\"533\" y=\"-120.41\" font-family=\"Times,serif\" font-size=\"14.00\">8:10</text>\n<text text-anchor=\"middle\" x=\"533\" y=\"-105.41\" font-family=\"Times,serif\" font-size=\"14.00\">8</text>\n</g>\n<!-- 7_10&#45;&#45;8_10 -->\n<g id=\"edge16\" class=\"edge\">\n<title>7_10&#45;&#45;8_10</title>\n<path fill=\"none\" stroke=\"black\" d=\"M476.54,-184.56C488.33,-170.57 503.82,-152.21 515.59,-138.25\"/>\n</g>\n<!-- 8_9 -->\n<g id=\"node18\" class=\"node\">\n<title>8_9</title>\n<ellipse fill=\"none\" stroke=\"black\" cx=\"496\" cy=\"-26.87\" rx=\"27\" ry=\"26.74\"/>\n<text text-anchor=\"middle\" x=\"496\" y=\"-30.67\" font-family=\"Times,serif\" font-size=\"14.00\">8:9</text>\n<text text-anchor=\"middle\" x=\"496\" y=\"-15.67\" font-family=\"Times,serif\" font-size=\"14.00\">1</text>\n</g>\n<!-- 8_10&#45;&#45;8_9 -->\n<g id=\"edge17\" class=\"edge\">\n<title>8_10&#45;&#45;8_9</title>\n<path fill=\"none\" stroke=\"black\" d=\"M522.69,-91.17C517.52,-78.9 511.27,-64.09 506.12,-51.88\"/>\n</g>\n<!-- 9_10 -->\n<g id=\"node19\" class=\"node\">\n<title>9_10</title>\n<ellipse fill=\"none\" stroke=\"black\" cx=\"570\" cy=\"-26.87\" rx=\"28.98\" ry=\"26.74\"/>\n<text text-anchor=\"middle\" x=\"570\" y=\"-30.67\" font-family=\"Times,serif\" font-size=\"14.00\">9:10</text>\n<text text-anchor=\"middle\" x=\"570\" y=\"-15.67\" font-family=\"Times,serif\" font-size=\"14.00\">7</text>\n</g>\n<!-- 8_10&#45;&#45;9_10 -->\n<g id=\"edge18\" class=\"edge\">\n<title>8_10&#45;&#45;9_10</title>\n<path fill=\"none\" stroke=\"black\" d=\"M543.31,-91.17C548.44,-79 554.62,-64.33 559.75,-52.18\"/>\n</g>\n</g>\n</svg>\n",
      "text/plain": [
       "<graphviz.dot.Graph at 0x110614850>"
      ]
     },
     "execution_count": 32,
     "metadata": {},
     "output_type": "execute_result"
    }
   ],
   "source": [
    "class Node:\n",
    "  def __init__(self, val, st, ed):\n",
    "    self.left = None\n",
    "    self.right = None\n",
    "    self.value = val\n",
    "    self.st, self.ed = st, ed\n",
    "\n",
    "\n",
    "def plot(node):\n",
    "  def preprocess(g, node, parent=None):\n",
    "    id = f'{node.st}_{node.ed}'\n",
    "    g.node(id, label=f'{id.replace(\"_\", \":\")}\\n{node.value}')\n",
    "    if parent: g.edge(parent, id)\n",
    "    if node.left: preprocess(g, node.left, id)\n",
    "    if node.right: preprocess(g, node.right, id)\n",
    "  g = graphviz.Graph()\n",
    "  g.graph_attr.update(size=\"6,4\")\n",
    "  preprocess(g, node)\n",
    "  return g\n",
    "\n",
    "\n",
    "def insert(node, i, val):\n",
    "  if node.st + 1 == node.ed and node.st == i:\n",
    "    diff = val - node.value\n",
    "    node.value = val\n",
    "    return diff\n",
    "  mid = (node.st + node.ed) // 2\n",
    "  if i < mid:\n",
    "    if node.left is None:\n",
    "      node.left = Node(0, node.st, mid)\n",
    "    val = insert(node.left, i, val)\n",
    "    node.value += val\n",
    "  else:\n",
    "    if node.right is None:\n",
    "      node.right = Node(0, mid, node.ed)\n",
    "    val = insert(node.right, i, val)\n",
    "    node.value += val\n",
    "  return val\n",
    "\n",
    "\n",
    "def query(node, i, j):\n",
    "  if node.st >= i and node.ed <= j:\n",
    "    return node.value\n",
    "  s = 0\n",
    "  if node.left: s += query(node.left, i, j)\n",
    "  if node.right: s += query(node.right, i, j)\n",
    "  return s\n",
    "\n",
    "\n",
    "n = Node(0, st=0, ed=len(A))\n",
    "for ai, a in enumerate(A):\n",
    "  insert(n, ai, a)\n",
    "print(query(n, 2, 7), query(n, 4, 9))\n",
    "plot(n)"
   ]
  },
  {
   "cell_type": "markdown",
   "metadata": {},
   "source": [
    "## Resources\n",
    "\n",
    "http://www.topcoder.com/thrive/articles/Range%20Minimum%20Query%20and%20Lowest%20Common%20Ancestor\n",
    "http://www.topcoder.com/thrive/articles/Binary%20Indexed%20Trees \n",
    "https://stackoverflow.com/questions/17466218/what-are-the-differences-between-segment-trees-interval-trees-binary-indexed-t\n"
   ]
  }
 ],
 "metadata": {
  "interpreter": {
   "hash": "04d70cdf251379a1b539252f4db26fe9a529f1675dd25206adc16ac2cc6010ae"
  },
  "kernelspec": {
   "display_name": "Python 3.7.7 64-bit ('3.7.7': pyenv)",
   "name": "python3"
  },
  "language_info": {
   "codemirror_mode": {
    "name": "ipython",
    "version": 3
   },
   "file_extension": ".py",
   "mimetype": "text/x-python",
   "name": "python",
   "nbconvert_exporter": "python",
   "pygments_lexer": "ipython3",
   "version": "3.7.7"
  },
  "orig_nbformat": 4
 },
 "nbformat": 4,
 "nbformat_minor": 2
}
